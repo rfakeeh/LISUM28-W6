{
 "cells": [
  {
   "cell_type": "markdown",
   "id": "be149f1f",
   "metadata": {},
   "source": [
    "# Methods of Reading Large Dataset"
   ]
  },
  {
   "cell_type": "markdown",
   "id": "c5b24299",
   "metadata": {},
   "source": [
    " For this task I compared the runtime of excuting `read_csv()`, `read_parquet()`, and `groupby()` using the following methods: \n",
    " \n",
    " 1. the traditional `pandas`.\n",
    " 2. the traditional `pandas` with chuncks.\n",
    " 3. the `dask`.\n",
    " 4. the `modin` on `ray`.\n",
    " 5. the `pyspark`."
   ]
  },
  {
   "cell_type": "code",
   "execution_count": 1,
   "id": "e94c8905",
   "metadata": {},
   "outputs": [],
   "source": [
    "import os\n",
    "import numpy as np\n",
    "import pandas as pd\n",
    "import dask.dataframe as dd\n",
    "import ray\n",
    "import modin.pandas as md\n",
    "from pyspark.sql import SparkSession\n",
    "import pyspark.sql.functions as PysparkFunc\n",
    "from pyspark.sql.types import StructType, StructField, StringType, IntegerType, FloatType, TimestampType\n",
    "from pyarrow import csv, parquet"
   ]
  },
  {
   "cell_type": "code",
   "execution_count": 2,
   "id": "3e39b950",
   "metadata": {},
   "outputs": [
    {
     "data": {
      "text/plain": [
       "16"
      ]
     },
     "execution_count": 2,
     "metadata": {},
     "output_type": "execute_result"
    }
   ],
   "source": [
    "# to use in ray and pyspark\n",
    "num_cpus = os.cpu_count()\n",
    "num_cpus"
   ]
  },
  {
   "cell_type": "code",
   "execution_count": 3,
   "id": "ac83e093",
   "metadata": {},
   "outputs": [],
   "source": [
    "data_path = 'data/input/'"
   ]
  },
  {
   "cell_type": "code",
   "execution_count": 4,
   "id": "d955ebb5",
   "metadata": {},
   "outputs": [],
   "source": [
    "csvfile = data_path+'bikes-1.csv'"
   ]
  },
  {
   "cell_type": "code",
   "execution_count": 5,
   "id": "0d6fa8f6",
   "metadata": {},
   "outputs": [
    {
     "name": "stdout",
     "output_type": "stream",
     "text": [
      "File size is 4.73 GB\n"
     ]
    }
   ],
   "source": [
    "# print the file size in GB\n",
    "file_size = os.path.getsize(csvfile)\n",
    "file_size /= 2**30\n",
    "file_size = np.round(file_size,2)\n",
    "print(f'File size is {file_size} GB')"
   ]
  },
  {
   "cell_type": "code",
   "execution_count": 6,
   "id": "3cbab88a",
   "metadata": {},
   "outputs": [
    {
     "name": "stdout",
     "output_type": "stream",
     "text": [
      "38215561\n",
      "Wall time: 14.2 s\n"
     ]
    }
   ],
   "source": [
    "%%time\n",
    "# print number of lines in the file\n",
    "num_lines = 0\n",
    "with open(csvfile,'r') as file:\n",
    "    for line in file:\n",
    "        num_lines += 1\n",
    "    print(f'{num_lines}')"
   ]
  },
  {
   "cell_type": "code",
   "execution_count": 7,
   "id": "0a2170df",
   "metadata": {},
   "outputs": [
    {
     "name": "stdout",
     "output_type": "stream",
     "text": [
      "['rental_id,duration,bike_id,end_rental_date_time,end_station_id,end_station_name,start_rental_date_time,start_station_id,start_station_name\\n']\n",
      "['61343322,60.0,12871.0,2016-12-28 00:01:00,660.0,\"West Kensington Station, West Kensington\",2016-12-28 00:00:00,633,\"Vereker Road North, West Kensington\"\\n']\n",
      "['61343321,300.0,2837.0,2016-12-28 00:05:00,763.0,\"Mile End Park Leisure Centre, Mile End\",2016-12-28 00:00:00,531,\"Twig Folly Bridge, Mile End\"\\n']\n",
      "['61343323,360.0,1269.0,2016-12-28 00:06:00,99.0,\"Old Quebec Street, Marylebone\",2016-12-28 00:00:00,116,\"Little Argyll Street, West End\"\\n']\n",
      "['61343325,1140.0,4208.0,2016-12-28 00:20:00,468.0,\"Cantrell Road, Bow\",2016-12-28 00:01:00,443,\"Philpot Street, Whitechapel\"\\n']\n",
      "['61343324,,1406.0,,,,2016-12-28 00:01:00,319,\"Baldwin Street, St. Luke\\'s\"\\n']\n",
      "['61343326,1380.0,11485.0,2016-12-28 00:25:00,219.0,\"Bramham Gardens, Earl\\'s Court\",2016-12-28 00:02:00,116,\"Little Argyll Street, West End\"\\n']\n",
      "['61343327,960.0,7686.0,2016-12-28 00:20:00,710.0,\"Albert Bridge Road, Battersea Park\",2016-12-28 00:04:00,74,\"Vauxhall Cross, Vauxhall\"\\n']\n",
      "['61343328,720.0,4192.0,2016-12-28 00:16:00,260.0,\"Broadwick Street, Soho\",2016-12-28 00:04:00,188,\"Nutford Place, Marylebone\"\\n']\n",
      "['61343329,780.0,10103.0,2016-12-28 00:18:00,233.0,\"Pall Mall East, West End\",2016-12-28 00:05:00,68,\"Theobald\\'s Road , Holborn\"\\n']\n"
     ]
    }
   ],
   "source": [
    "# read the first n lines in the file\n",
    "n = 10\n",
    "with open(csvfile,'r') as file:\n",
    "    for _ in range(n):\n",
    "        print([file.readline()])"
   ]
  },
  {
   "cell_type": "markdown",
   "id": "9d082f78",
   "metadata": {},
   "source": [
    "## 1. Traditional `pandas` with `csv` file"
   ]
  },
  {
   "cell_type": "code",
   "execution_count": 8,
   "id": "0dc60802",
   "metadata": {},
   "outputs": [
    {
     "name": "stdout",
     "output_type": "stream",
     "text": [
      "Wall time: 41.2 s\n"
     ]
    }
   ],
   "source": [
    "%%time\n",
    "# traditional pandas\n",
    "# read file\n",
    "df = None\n",
    "df = pd.read_csv(csvfile)"
   ]
  },
  {
   "cell_type": "code",
   "execution_count": 9,
   "id": "decba019",
   "metadata": {},
   "outputs": [
    {
     "data": {
      "text/plain": [
       "(38215560, 9)"
      ]
     },
     "execution_count": 9,
     "metadata": {},
     "output_type": "execute_result"
    }
   ],
   "source": [
    "df.shape"
   ]
  },
  {
   "cell_type": "code",
   "execution_count": 10,
   "id": "b00837ed",
   "metadata": {},
   "outputs": [
    {
     "name": "stdout",
     "output_type": "stream",
     "text": [
      "<class 'pandas.core.frame.DataFrame'>\n",
      "RangeIndex: 38215560 entries, 0 to 38215559\n",
      "Data columns (total 9 columns):\n",
      " #   Column                  Dtype  \n",
      "---  ------                  -----  \n",
      " 0   rental_id               int64  \n",
      " 1   duration                float64\n",
      " 2   bike_id                 float64\n",
      " 3   end_rental_date_time    object \n",
      " 4   end_station_id          float64\n",
      " 5   end_station_name        object \n",
      " 6   start_rental_date_time  object \n",
      " 7   start_station_id        int64  \n",
      " 8   start_station_name      object \n",
      "dtypes: float64(3), int64(2), object(4)\n",
      "memory usage: 2.6+ GB\n"
     ]
    }
   ],
   "source": [
    "df.info()"
   ]
  },
  {
   "cell_type": "code",
   "execution_count": 11,
   "id": "8a9cf4a1",
   "metadata": {},
   "outputs": [
    {
     "data": {
      "text/plain": [
       "rental_id                     0\n",
       "duration                  67617\n",
       "bike_id                      17\n",
       "end_rental_date_time      67617\n",
       "end_station_id            68213\n",
       "end_station_name          68213\n",
       "start_rental_date_time        0\n",
       "start_station_id              0\n",
       "start_station_name            0\n",
       "dtype: int64"
      ]
     },
     "execution_count": 11,
     "metadata": {},
     "output_type": "execute_result"
    }
   ],
   "source": [
    "df.isnull().sum()"
   ]
  },
  {
   "cell_type": "code",
   "execution_count": 12,
   "id": "0051e8ca",
   "metadata": {},
   "outputs": [
    {
     "data": {
      "text/plain": [
       "True"
      ]
     },
     "execution_count": 12,
     "metadata": {},
     "output_type": "execute_result"
    }
   ],
   "source": [
    "df['rental_id'].is_unique"
   ]
  },
  {
   "cell_type": "code",
   "execution_count": 13,
   "id": "f29b039b",
   "metadata": {},
   "outputs": [
    {
     "data": {
      "text/html": [
       "<div>\n",
       "<style scoped>\n",
       "    .dataframe tbody tr th:only-of-type {\n",
       "        vertical-align: middle;\n",
       "    }\n",
       "\n",
       "    .dataframe tbody tr th {\n",
       "        vertical-align: top;\n",
       "    }\n",
       "\n",
       "    .dataframe thead th {\n",
       "        text-align: right;\n",
       "    }\n",
       "</style>\n",
       "<table border=\"1\" class=\"dataframe\">\n",
       "  <thead>\n",
       "    <tr style=\"text-align: right;\">\n",
       "      <th></th>\n",
       "      <th>rental_id</th>\n",
       "      <th>duration</th>\n",
       "      <th>bike_id</th>\n",
       "      <th>end_rental_date_time</th>\n",
       "      <th>end_station_id</th>\n",
       "      <th>end_station_name</th>\n",
       "      <th>start_rental_date_time</th>\n",
       "      <th>start_station_id</th>\n",
       "      <th>start_station_name</th>\n",
       "    </tr>\n",
       "  </thead>\n",
       "  <tbody>\n",
       "    <tr>\n",
       "      <th>0</th>\n",
       "      <td>61343322</td>\n",
       "      <td>60.0</td>\n",
       "      <td>12871.0</td>\n",
       "      <td>2016-12-28 00:01:00</td>\n",
       "      <td>660.0</td>\n",
       "      <td>West Kensington Station, West Kensington</td>\n",
       "      <td>2016-12-28 00:00:00</td>\n",
       "      <td>633</td>\n",
       "      <td>Vereker Road North, West Kensington</td>\n",
       "    </tr>\n",
       "    <tr>\n",
       "      <th>1</th>\n",
       "      <td>61343321</td>\n",
       "      <td>300.0</td>\n",
       "      <td>2837.0</td>\n",
       "      <td>2016-12-28 00:05:00</td>\n",
       "      <td>763.0</td>\n",
       "      <td>Mile End Park Leisure Centre, Mile End</td>\n",
       "      <td>2016-12-28 00:00:00</td>\n",
       "      <td>531</td>\n",
       "      <td>Twig Folly Bridge, Mile End</td>\n",
       "    </tr>\n",
       "    <tr>\n",
       "      <th>2</th>\n",
       "      <td>61343323</td>\n",
       "      <td>360.0</td>\n",
       "      <td>1269.0</td>\n",
       "      <td>2016-12-28 00:06:00</td>\n",
       "      <td>99.0</td>\n",
       "      <td>Old Quebec Street, Marylebone</td>\n",
       "      <td>2016-12-28 00:00:00</td>\n",
       "      <td>116</td>\n",
       "      <td>Little Argyll Street, West End</td>\n",
       "    </tr>\n",
       "    <tr>\n",
       "      <th>3</th>\n",
       "      <td>61343325</td>\n",
       "      <td>1140.0</td>\n",
       "      <td>4208.0</td>\n",
       "      <td>2016-12-28 00:20:00</td>\n",
       "      <td>468.0</td>\n",
       "      <td>Cantrell Road, Bow</td>\n",
       "      <td>2016-12-28 00:01:00</td>\n",
       "      <td>443</td>\n",
       "      <td>Philpot Street, Whitechapel</td>\n",
       "    </tr>\n",
       "    <tr>\n",
       "      <th>4</th>\n",
       "      <td>61343324</td>\n",
       "      <td>NaN</td>\n",
       "      <td>1406.0</td>\n",
       "      <td>NaN</td>\n",
       "      <td>NaN</td>\n",
       "      <td>NaN</td>\n",
       "      <td>2016-12-28 00:01:00</td>\n",
       "      <td>319</td>\n",
       "      <td>Baldwin Street, St. Luke's</td>\n",
       "    </tr>\n",
       "    <tr>\n",
       "      <th>38215555</th>\n",
       "      <td>101367955</td>\n",
       "      <td>240.0</td>\n",
       "      <td>15436.0</td>\n",
       "      <td>2020-09-01 23:53:00</td>\n",
       "      <td>652.0</td>\n",
       "      <td>Evesham Street, Avondale</td>\n",
       "      <td>2020-09-01 23:49:00</td>\n",
       "      <td>606</td>\n",
       "      <td>Addison Road, Holland Park</td>\n",
       "    </tr>\n",
       "    <tr>\n",
       "      <th>38215556</th>\n",
       "      <td>101367958</td>\n",
       "      <td>60.0</td>\n",
       "      <td>10896.0</td>\n",
       "      <td>2020-09-01 23:51:00</td>\n",
       "      <td>488.0</td>\n",
       "      <td>Reardon Street, Wapping</td>\n",
       "      <td>2020-09-01 23:50:00</td>\n",
       "      <td>458</td>\n",
       "      <td>Wapping Lane, Wapping</td>\n",
       "    </tr>\n",
       "    <tr>\n",
       "      <th>38215557</th>\n",
       "      <td>101367970</td>\n",
       "      <td>480.0</td>\n",
       "      <td>18116.0</td>\n",
       "      <td>2020-09-01 23:59:00</td>\n",
       "      <td>442.0</td>\n",
       "      <td>Walmer Road, Avondale</td>\n",
       "      <td>2020-09-01 23:51:00</td>\n",
       "      <td>442</td>\n",
       "      <td>Walmer Road, Avondale</td>\n",
       "    </tr>\n",
       "    <tr>\n",
       "      <th>38215558</th>\n",
       "      <td>101367999</td>\n",
       "      <td>300.0</td>\n",
       "      <td>16371.0</td>\n",
       "      <td>2020-09-01 23:59:00</td>\n",
       "      <td>511.0</td>\n",
       "      <td>Sutton Street, Shadwell</td>\n",
       "      <td>2020-09-01 23:54:00</td>\n",
       "      <td>202</td>\n",
       "      <td>Leman Street, Aldgate</td>\n",
       "    </tr>\n",
       "    <tr>\n",
       "      <th>38215559</th>\n",
       "      <td>101367995</td>\n",
       "      <td>240.0</td>\n",
       "      <td>8408.0</td>\n",
       "      <td>2020-09-01 23:58:00</td>\n",
       "      <td>56.0</td>\n",
       "      <td>Paddington Street, Marylebone</td>\n",
       "      <td>2020-09-01 23:54:00</td>\n",
       "      <td>367</td>\n",
       "      <td>Harrowby Street, Marylebone</td>\n",
       "    </tr>\n",
       "  </tbody>\n",
       "</table>\n",
       "</div>"
      ],
      "text/plain": [
       "          rental_id  duration  bike_id end_rental_date_time  end_station_id  \\\n",
       "0          61343322      60.0  12871.0  2016-12-28 00:01:00           660.0   \n",
       "1          61343321     300.0   2837.0  2016-12-28 00:05:00           763.0   \n",
       "2          61343323     360.0   1269.0  2016-12-28 00:06:00            99.0   \n",
       "3          61343325    1140.0   4208.0  2016-12-28 00:20:00           468.0   \n",
       "4          61343324       NaN   1406.0                  NaN             NaN   \n",
       "38215555  101367955     240.0  15436.0  2020-09-01 23:53:00           652.0   \n",
       "38215556  101367958      60.0  10896.0  2020-09-01 23:51:00           488.0   \n",
       "38215557  101367970     480.0  18116.0  2020-09-01 23:59:00           442.0   \n",
       "38215558  101367999     300.0  16371.0  2020-09-01 23:59:00           511.0   \n",
       "38215559  101367995     240.0   8408.0  2020-09-01 23:58:00            56.0   \n",
       "\n",
       "                                  end_station_name start_rental_date_time  \\\n",
       "0         West Kensington Station, West Kensington    2016-12-28 00:00:00   \n",
       "1           Mile End Park Leisure Centre, Mile End    2016-12-28 00:00:00   \n",
       "2                    Old Quebec Street, Marylebone    2016-12-28 00:00:00   \n",
       "3                               Cantrell Road, Bow    2016-12-28 00:01:00   \n",
       "4                                              NaN    2016-12-28 00:01:00   \n",
       "38215555                  Evesham Street, Avondale    2020-09-01 23:49:00   \n",
       "38215556                   Reardon Street, Wapping    2020-09-01 23:50:00   \n",
       "38215557                     Walmer Road, Avondale    2020-09-01 23:51:00   \n",
       "38215558                   Sutton Street, Shadwell    2020-09-01 23:54:00   \n",
       "38215559             Paddington Street, Marylebone    2020-09-01 23:54:00   \n",
       "\n",
       "          start_station_id                   start_station_name  \n",
       "0                      633  Vereker Road North, West Kensington  \n",
       "1                      531          Twig Folly Bridge, Mile End  \n",
       "2                      116       Little Argyll Street, West End  \n",
       "3                      443          Philpot Street, Whitechapel  \n",
       "4                      319           Baldwin Street, St. Luke's  \n",
       "38215555               606           Addison Road, Holland Park  \n",
       "38215556               458                Wapping Lane, Wapping  \n",
       "38215557               442                Walmer Road, Avondale  \n",
       "38215558               202                Leman Street, Aldgate  \n",
       "38215559               367          Harrowby Street, Marylebone  "
      ]
     },
     "execution_count": 13,
     "metadata": {},
     "output_type": "execute_result"
    }
   ],
   "source": [
    "pd.concat([df.head(),df.tail()])"
   ]
  },
  {
   "cell_type": "code",
   "execution_count": 14,
   "id": "4d7251f2",
   "metadata": {},
   "outputs": [
    {
     "name": "stdout",
     "output_type": "stream",
     "text": [
      "Wall time: 40.9 s\n"
     ]
    }
   ],
   "source": [
    "%%time\n",
    "# traditional pandas\n",
    "# group by\n",
    "df = None\n",
    "df = pd.read_csv(csvfile)\n",
    "grouped_df = df.groupby(['bike_id'], as_index=False).agg({'duration':'sum','rental_id':'count'})"
   ]
  },
  {
   "cell_type": "code",
   "execution_count": 15,
   "id": "df4aca6b",
   "metadata": {},
   "outputs": [
    {
     "data": {
      "text/plain": [
       "(16019, 3)"
      ]
     },
     "execution_count": 15,
     "metadata": {},
     "output_type": "execute_result"
    }
   ],
   "source": [
    "grouped_df.shape"
   ]
  },
  {
   "cell_type": "code",
   "execution_count": 16,
   "id": "32dbc300",
   "metadata": {},
   "outputs": [
    {
     "data": {
      "text/html": [
       "<div>\n",
       "<style scoped>\n",
       "    .dataframe tbody tr th:only-of-type {\n",
       "        vertical-align: middle;\n",
       "    }\n",
       "\n",
       "    .dataframe tbody tr th {\n",
       "        vertical-align: top;\n",
       "    }\n",
       "\n",
       "    .dataframe thead th {\n",
       "        text-align: right;\n",
       "    }\n",
       "</style>\n",
       "<table border=\"1\" class=\"dataframe\">\n",
       "  <thead>\n",
       "    <tr style=\"text-align: right;\">\n",
       "      <th></th>\n",
       "      <th>bike_id</th>\n",
       "      <th>duration</th>\n",
       "      <th>rental_id</th>\n",
       "    </tr>\n",
       "  </thead>\n",
       "  <tbody>\n",
       "    <tr>\n",
       "      <th>0</th>\n",
       "      <td>1.0</td>\n",
       "      <td>3889465.0</td>\n",
       "      <td>2653</td>\n",
       "    </tr>\n",
       "    <tr>\n",
       "      <th>1</th>\n",
       "      <td>2.0</td>\n",
       "      <td>2056260.0</td>\n",
       "      <td>1569</td>\n",
       "    </tr>\n",
       "    <tr>\n",
       "      <th>2</th>\n",
       "      <td>4.0</td>\n",
       "      <td>4086285.0</td>\n",
       "      <td>2905</td>\n",
       "    </tr>\n",
       "    <tr>\n",
       "      <th>3</th>\n",
       "      <td>5.0</td>\n",
       "      <td>3847900.0</td>\n",
       "      <td>2665</td>\n",
       "    </tr>\n",
       "    <tr>\n",
       "      <th>4</th>\n",
       "      <td>6.0</td>\n",
       "      <td>3776526.0</td>\n",
       "      <td>3092</td>\n",
       "    </tr>\n",
       "    <tr>\n",
       "      <th>16014</th>\n",
       "      <td>18499.0</td>\n",
       "      <td>6360.0</td>\n",
       "      <td>7</td>\n",
       "    </tr>\n",
       "    <tr>\n",
       "      <th>16015</th>\n",
       "      <td>18502.0</td>\n",
       "      <td>6960.0</td>\n",
       "      <td>8</td>\n",
       "    </tr>\n",
       "    <tr>\n",
       "      <th>16016</th>\n",
       "      <td>18505.0</td>\n",
       "      <td>4560.0</td>\n",
       "      <td>4</td>\n",
       "    </tr>\n",
       "    <tr>\n",
       "      <th>16017</th>\n",
       "      <td>18510.0</td>\n",
       "      <td>19440.0</td>\n",
       "      <td>14</td>\n",
       "    </tr>\n",
       "    <tr>\n",
       "      <th>16018</th>\n",
       "      <td>18512.0</td>\n",
       "      <td>8160.0</td>\n",
       "      <td>9</td>\n",
       "    </tr>\n",
       "  </tbody>\n",
       "</table>\n",
       "</div>"
      ],
      "text/plain": [
       "       bike_id   duration  rental_id\n",
       "0          1.0  3889465.0       2653\n",
       "1          2.0  2056260.0       1569\n",
       "2          4.0  4086285.0       2905\n",
       "3          5.0  3847900.0       2665\n",
       "4          6.0  3776526.0       3092\n",
       "16014  18499.0     6360.0          7\n",
       "16015  18502.0     6960.0          8\n",
       "16016  18505.0     4560.0          4\n",
       "16017  18510.0    19440.0         14\n",
       "16018  18512.0     8160.0          9"
      ]
     },
     "execution_count": 16,
     "metadata": {},
     "output_type": "execute_result"
    }
   ],
   "source": [
    "pd.concat([grouped_df.head(),grouped_df.tail()])"
   ]
  },
  {
   "cell_type": "markdown",
   "id": "4b4e43e9",
   "metadata": {},
   "source": [
    "## 2. Traditional `pandas` in chuncks  with `csv` file"
   ]
  },
  {
   "cell_type": "code",
   "execution_count": 17,
   "id": "5baacd9d",
   "metadata": {},
   "outputs": [
    {
     "data": {
      "text/plain": [
       "7643113"
      ]
     },
     "execution_count": 17,
     "metadata": {},
     "output_type": "execute_result"
    }
   ],
   "source": [
    "num_chunks = 5\n",
    "chunksize = int(np.ceil(num_lines/num_chunks))\n",
    "chunksize"
   ]
  },
  {
   "cell_type": "code",
   "execution_count": 18,
   "id": "bdc9db59",
   "metadata": {},
   "outputs": [
    {
     "name": "stdout",
     "output_type": "stream",
     "text": [
      "Wall time: 40 s\n"
     ]
    }
   ],
   "source": [
    "%%time\n",
    "# pandas chuncks\n",
    "# read file\n",
    "iterator = pd.read_csv(csvfile, chunksize=chunksize) \n",
    "df = pd.concat([chunck for chunck in iterator]) # time-consuming"
   ]
  },
  {
   "cell_type": "code",
   "execution_count": 19,
   "id": "e0b1e223",
   "metadata": {},
   "outputs": [
    {
     "data": {
      "text/plain": [
       "(38215560, 9)"
      ]
     },
     "execution_count": 19,
     "metadata": {},
     "output_type": "execute_result"
    }
   ],
   "source": [
    "df.shape"
   ]
  },
  {
   "cell_type": "code",
   "execution_count": 20,
   "id": "bf38329a",
   "metadata": {
    "scrolled": false
   },
   "outputs": [
    {
     "data": {
      "text/html": [
       "<div>\n",
       "<style scoped>\n",
       "    .dataframe tbody tr th:only-of-type {\n",
       "        vertical-align: middle;\n",
       "    }\n",
       "\n",
       "    .dataframe tbody tr th {\n",
       "        vertical-align: top;\n",
       "    }\n",
       "\n",
       "    .dataframe thead th {\n",
       "        text-align: right;\n",
       "    }\n",
       "</style>\n",
       "<table border=\"1\" class=\"dataframe\">\n",
       "  <thead>\n",
       "    <tr style=\"text-align: right;\">\n",
       "      <th></th>\n",
       "      <th>rental_id</th>\n",
       "      <th>duration</th>\n",
       "      <th>bike_id</th>\n",
       "      <th>end_rental_date_time</th>\n",
       "      <th>end_station_id</th>\n",
       "      <th>end_station_name</th>\n",
       "      <th>start_rental_date_time</th>\n",
       "      <th>start_station_id</th>\n",
       "      <th>start_station_name</th>\n",
       "    </tr>\n",
       "  </thead>\n",
       "  <tbody>\n",
       "    <tr>\n",
       "      <th>0</th>\n",
       "      <td>61343322</td>\n",
       "      <td>60.0</td>\n",
       "      <td>12871.0</td>\n",
       "      <td>2016-12-28 00:01:00</td>\n",
       "      <td>660.0</td>\n",
       "      <td>West Kensington Station, West Kensington</td>\n",
       "      <td>2016-12-28 00:00:00</td>\n",
       "      <td>633</td>\n",
       "      <td>Vereker Road North, West Kensington</td>\n",
       "    </tr>\n",
       "    <tr>\n",
       "      <th>1</th>\n",
       "      <td>61343321</td>\n",
       "      <td>300.0</td>\n",
       "      <td>2837.0</td>\n",
       "      <td>2016-12-28 00:05:00</td>\n",
       "      <td>763.0</td>\n",
       "      <td>Mile End Park Leisure Centre, Mile End</td>\n",
       "      <td>2016-12-28 00:00:00</td>\n",
       "      <td>531</td>\n",
       "      <td>Twig Folly Bridge, Mile End</td>\n",
       "    </tr>\n",
       "    <tr>\n",
       "      <th>2</th>\n",
       "      <td>61343323</td>\n",
       "      <td>360.0</td>\n",
       "      <td>1269.0</td>\n",
       "      <td>2016-12-28 00:06:00</td>\n",
       "      <td>99.0</td>\n",
       "      <td>Old Quebec Street, Marylebone</td>\n",
       "      <td>2016-12-28 00:00:00</td>\n",
       "      <td>116</td>\n",
       "      <td>Little Argyll Street, West End</td>\n",
       "    </tr>\n",
       "    <tr>\n",
       "      <th>3</th>\n",
       "      <td>61343325</td>\n",
       "      <td>1140.0</td>\n",
       "      <td>4208.0</td>\n",
       "      <td>2016-12-28 00:20:00</td>\n",
       "      <td>468.0</td>\n",
       "      <td>Cantrell Road, Bow</td>\n",
       "      <td>2016-12-28 00:01:00</td>\n",
       "      <td>443</td>\n",
       "      <td>Philpot Street, Whitechapel</td>\n",
       "    </tr>\n",
       "    <tr>\n",
       "      <th>4</th>\n",
       "      <td>61343324</td>\n",
       "      <td>NaN</td>\n",
       "      <td>1406.0</td>\n",
       "      <td>NaN</td>\n",
       "      <td>NaN</td>\n",
       "      <td>NaN</td>\n",
       "      <td>2016-12-28 00:01:00</td>\n",
       "      <td>319</td>\n",
       "      <td>Baldwin Street, St. Luke's</td>\n",
       "    </tr>\n",
       "    <tr>\n",
       "      <th>38215555</th>\n",
       "      <td>101367955</td>\n",
       "      <td>240.0</td>\n",
       "      <td>15436.0</td>\n",
       "      <td>2020-09-01 23:53:00</td>\n",
       "      <td>652.0</td>\n",
       "      <td>Evesham Street, Avondale</td>\n",
       "      <td>2020-09-01 23:49:00</td>\n",
       "      <td>606</td>\n",
       "      <td>Addison Road, Holland Park</td>\n",
       "    </tr>\n",
       "    <tr>\n",
       "      <th>38215556</th>\n",
       "      <td>101367958</td>\n",
       "      <td>60.0</td>\n",
       "      <td>10896.0</td>\n",
       "      <td>2020-09-01 23:51:00</td>\n",
       "      <td>488.0</td>\n",
       "      <td>Reardon Street, Wapping</td>\n",
       "      <td>2020-09-01 23:50:00</td>\n",
       "      <td>458</td>\n",
       "      <td>Wapping Lane, Wapping</td>\n",
       "    </tr>\n",
       "    <tr>\n",
       "      <th>38215557</th>\n",
       "      <td>101367970</td>\n",
       "      <td>480.0</td>\n",
       "      <td>18116.0</td>\n",
       "      <td>2020-09-01 23:59:00</td>\n",
       "      <td>442.0</td>\n",
       "      <td>Walmer Road, Avondale</td>\n",
       "      <td>2020-09-01 23:51:00</td>\n",
       "      <td>442</td>\n",
       "      <td>Walmer Road, Avondale</td>\n",
       "    </tr>\n",
       "    <tr>\n",
       "      <th>38215558</th>\n",
       "      <td>101367999</td>\n",
       "      <td>300.0</td>\n",
       "      <td>16371.0</td>\n",
       "      <td>2020-09-01 23:59:00</td>\n",
       "      <td>511.0</td>\n",
       "      <td>Sutton Street, Shadwell</td>\n",
       "      <td>2020-09-01 23:54:00</td>\n",
       "      <td>202</td>\n",
       "      <td>Leman Street, Aldgate</td>\n",
       "    </tr>\n",
       "    <tr>\n",
       "      <th>38215559</th>\n",
       "      <td>101367995</td>\n",
       "      <td>240.0</td>\n",
       "      <td>8408.0</td>\n",
       "      <td>2020-09-01 23:58:00</td>\n",
       "      <td>56.0</td>\n",
       "      <td>Paddington Street, Marylebone</td>\n",
       "      <td>2020-09-01 23:54:00</td>\n",
       "      <td>367</td>\n",
       "      <td>Harrowby Street, Marylebone</td>\n",
       "    </tr>\n",
       "  </tbody>\n",
       "</table>\n",
       "</div>"
      ],
      "text/plain": [
       "          rental_id  duration  bike_id end_rental_date_time  end_station_id  \\\n",
       "0          61343322      60.0  12871.0  2016-12-28 00:01:00           660.0   \n",
       "1          61343321     300.0   2837.0  2016-12-28 00:05:00           763.0   \n",
       "2          61343323     360.0   1269.0  2016-12-28 00:06:00            99.0   \n",
       "3          61343325    1140.0   4208.0  2016-12-28 00:20:00           468.0   \n",
       "4          61343324       NaN   1406.0                  NaN             NaN   \n",
       "38215555  101367955     240.0  15436.0  2020-09-01 23:53:00           652.0   \n",
       "38215556  101367958      60.0  10896.0  2020-09-01 23:51:00           488.0   \n",
       "38215557  101367970     480.0  18116.0  2020-09-01 23:59:00           442.0   \n",
       "38215558  101367999     300.0  16371.0  2020-09-01 23:59:00           511.0   \n",
       "38215559  101367995     240.0   8408.0  2020-09-01 23:58:00            56.0   \n",
       "\n",
       "                                  end_station_name start_rental_date_time  \\\n",
       "0         West Kensington Station, West Kensington    2016-12-28 00:00:00   \n",
       "1           Mile End Park Leisure Centre, Mile End    2016-12-28 00:00:00   \n",
       "2                    Old Quebec Street, Marylebone    2016-12-28 00:00:00   \n",
       "3                               Cantrell Road, Bow    2016-12-28 00:01:00   \n",
       "4                                              NaN    2016-12-28 00:01:00   \n",
       "38215555                  Evesham Street, Avondale    2020-09-01 23:49:00   \n",
       "38215556                   Reardon Street, Wapping    2020-09-01 23:50:00   \n",
       "38215557                     Walmer Road, Avondale    2020-09-01 23:51:00   \n",
       "38215558                   Sutton Street, Shadwell    2020-09-01 23:54:00   \n",
       "38215559             Paddington Street, Marylebone    2020-09-01 23:54:00   \n",
       "\n",
       "          start_station_id                   start_station_name  \n",
       "0                      633  Vereker Road North, West Kensington  \n",
       "1                      531          Twig Folly Bridge, Mile End  \n",
       "2                      116       Little Argyll Street, West End  \n",
       "3                      443          Philpot Street, Whitechapel  \n",
       "4                      319           Baldwin Street, St. Luke's  \n",
       "38215555               606           Addison Road, Holland Park  \n",
       "38215556               458                Wapping Lane, Wapping  \n",
       "38215557               442                Walmer Road, Avondale  \n",
       "38215558               202                Leman Street, Aldgate  \n",
       "38215559               367          Harrowby Street, Marylebone  "
      ]
     },
     "execution_count": 20,
     "metadata": {},
     "output_type": "execute_result"
    }
   ],
   "source": [
    "pd.concat([df.head(),df.tail()])"
   ]
  },
  {
   "cell_type": "code",
   "execution_count": 21,
   "id": "df1a7d7b",
   "metadata": {},
   "outputs": [
    {
     "name": "stdout",
     "output_type": "stream",
     "text": [
      "Wall time: 39.8 s\n"
     ]
    }
   ],
   "source": [
    "%%time\n",
    "# pandas chuncks\n",
    "iterator = pd.read_csv(csvfile, chunksize=chunksize) \n",
    "chuncks = []\n",
    "for chunck in iterator: # time-consuming\n",
    "    chuncks.append(chunck.groupby(['bike_id'], as_index=False).agg({'duration':'sum','rental_id':'count'}))\n",
    "df = pd.concat(chuncks) \n",
    "# finalize\n",
    "grouped_df = df.groupby(['bike_id'], as_index=False).agg({'duration':'sum','rental_id':'sum'})"
   ]
  },
  {
   "cell_type": "code",
   "execution_count": 22,
   "id": "57ef743c",
   "metadata": {},
   "outputs": [
    {
     "data": {
      "text/plain": [
       "(16019, 3)"
      ]
     },
     "execution_count": 22,
     "metadata": {},
     "output_type": "execute_result"
    }
   ],
   "source": [
    "grouped_df.shape"
   ]
  },
  {
   "cell_type": "code",
   "execution_count": 23,
   "id": "d052dd40",
   "metadata": {},
   "outputs": [
    {
     "data": {
      "text/html": [
       "<div>\n",
       "<style scoped>\n",
       "    .dataframe tbody tr th:only-of-type {\n",
       "        vertical-align: middle;\n",
       "    }\n",
       "\n",
       "    .dataframe tbody tr th {\n",
       "        vertical-align: top;\n",
       "    }\n",
       "\n",
       "    .dataframe thead th {\n",
       "        text-align: right;\n",
       "    }\n",
       "</style>\n",
       "<table border=\"1\" class=\"dataframe\">\n",
       "  <thead>\n",
       "    <tr style=\"text-align: right;\">\n",
       "      <th></th>\n",
       "      <th>bike_id</th>\n",
       "      <th>duration</th>\n",
       "      <th>rental_id</th>\n",
       "    </tr>\n",
       "  </thead>\n",
       "  <tbody>\n",
       "    <tr>\n",
       "      <th>0</th>\n",
       "      <td>1.0</td>\n",
       "      <td>3889465.0</td>\n",
       "      <td>2653</td>\n",
       "    </tr>\n",
       "    <tr>\n",
       "      <th>1</th>\n",
       "      <td>2.0</td>\n",
       "      <td>2056260.0</td>\n",
       "      <td>1569</td>\n",
       "    </tr>\n",
       "    <tr>\n",
       "      <th>2</th>\n",
       "      <td>4.0</td>\n",
       "      <td>4086285.0</td>\n",
       "      <td>2905</td>\n",
       "    </tr>\n",
       "    <tr>\n",
       "      <th>3</th>\n",
       "      <td>5.0</td>\n",
       "      <td>3847900.0</td>\n",
       "      <td>2665</td>\n",
       "    </tr>\n",
       "    <tr>\n",
       "      <th>4</th>\n",
       "      <td>6.0</td>\n",
       "      <td>3776526.0</td>\n",
       "      <td>3092</td>\n",
       "    </tr>\n",
       "    <tr>\n",
       "      <th>16014</th>\n",
       "      <td>18499.0</td>\n",
       "      <td>6360.0</td>\n",
       "      <td>7</td>\n",
       "    </tr>\n",
       "    <tr>\n",
       "      <th>16015</th>\n",
       "      <td>18502.0</td>\n",
       "      <td>6960.0</td>\n",
       "      <td>8</td>\n",
       "    </tr>\n",
       "    <tr>\n",
       "      <th>16016</th>\n",
       "      <td>18505.0</td>\n",
       "      <td>4560.0</td>\n",
       "      <td>4</td>\n",
       "    </tr>\n",
       "    <tr>\n",
       "      <th>16017</th>\n",
       "      <td>18510.0</td>\n",
       "      <td>19440.0</td>\n",
       "      <td>14</td>\n",
       "    </tr>\n",
       "    <tr>\n",
       "      <th>16018</th>\n",
       "      <td>18512.0</td>\n",
       "      <td>8160.0</td>\n",
       "      <td>9</td>\n",
       "    </tr>\n",
       "  </tbody>\n",
       "</table>\n",
       "</div>"
      ],
      "text/plain": [
       "       bike_id   duration  rental_id\n",
       "0          1.0  3889465.0       2653\n",
       "1          2.0  2056260.0       1569\n",
       "2          4.0  4086285.0       2905\n",
       "3          5.0  3847900.0       2665\n",
       "4          6.0  3776526.0       3092\n",
       "16014  18499.0     6360.0          7\n",
       "16015  18502.0     6960.0          8\n",
       "16016  18505.0     4560.0          4\n",
       "16017  18510.0    19440.0         14\n",
       "16018  18512.0     8160.0          9"
      ]
     },
     "execution_count": 23,
     "metadata": {},
     "output_type": "execute_result"
    }
   ],
   "source": [
    "pd.concat([grouped_df.head(),grouped_df.tail()])"
   ]
  },
  {
   "cell_type": "markdown",
   "id": "f387df7a",
   "metadata": {},
   "source": [
    "## 3. The `dask` dataframe with `csv` file"
   ]
  },
  {
   "cell_type": "code",
   "execution_count": 24,
   "id": "53e0b21f",
   "metadata": {},
   "outputs": [
    {
     "name": "stdout",
     "output_type": "stream",
     "text": [
      "Wall time: 33.9 s\n"
     ]
    }
   ],
   "source": [
    "%%time\n",
    "# dask dataframe\n",
    "# read file\n",
    "df = None\n",
    "df = dd.read_csv(csvfile, assume_missing=True)\n",
    "df = df.compute() # time-consuming"
   ]
  },
  {
   "cell_type": "code",
   "execution_count": 25,
   "id": "a4e9441d",
   "metadata": {},
   "outputs": [
    {
     "data": {
      "text/plain": [
       "(38215560, 9)"
      ]
     },
     "execution_count": 25,
     "metadata": {},
     "output_type": "execute_result"
    }
   ],
   "source": [
    "df.shape"
   ]
  },
  {
   "cell_type": "code",
   "execution_count": 26,
   "id": "c3838ece",
   "metadata": {},
   "outputs": [
    {
     "data": {
      "text/html": [
       "<div>\n",
       "<style scoped>\n",
       "    .dataframe tbody tr th:only-of-type {\n",
       "        vertical-align: middle;\n",
       "    }\n",
       "\n",
       "    .dataframe tbody tr th {\n",
       "        vertical-align: top;\n",
       "    }\n",
       "\n",
       "    .dataframe thead th {\n",
       "        text-align: right;\n",
       "    }\n",
       "</style>\n",
       "<table border=\"1\" class=\"dataframe\">\n",
       "  <thead>\n",
       "    <tr style=\"text-align: right;\">\n",
       "      <th></th>\n",
       "      <th>rental_id</th>\n",
       "      <th>duration</th>\n",
       "      <th>bike_id</th>\n",
       "      <th>end_rental_date_time</th>\n",
       "      <th>end_station_id</th>\n",
       "      <th>end_station_name</th>\n",
       "      <th>start_rental_date_time</th>\n",
       "      <th>start_station_id</th>\n",
       "      <th>start_station_name</th>\n",
       "    </tr>\n",
       "  </thead>\n",
       "  <tbody>\n",
       "    <tr>\n",
       "      <th>0</th>\n",
       "      <td>61343322.0</td>\n",
       "      <td>60.0</td>\n",
       "      <td>12871.0</td>\n",
       "      <td>2016-12-28 00:01:00</td>\n",
       "      <td>660.0</td>\n",
       "      <td>West Kensington Station, West Kensington</td>\n",
       "      <td>2016-12-28 00:00:00</td>\n",
       "      <td>633.0</td>\n",
       "      <td>Vereker Road North, West Kensington</td>\n",
       "    </tr>\n",
       "    <tr>\n",
       "      <th>1</th>\n",
       "      <td>61343321.0</td>\n",
       "      <td>300.0</td>\n",
       "      <td>2837.0</td>\n",
       "      <td>2016-12-28 00:05:00</td>\n",
       "      <td>763.0</td>\n",
       "      <td>Mile End Park Leisure Centre, Mile End</td>\n",
       "      <td>2016-12-28 00:00:00</td>\n",
       "      <td>531.0</td>\n",
       "      <td>Twig Folly Bridge, Mile End</td>\n",
       "    </tr>\n",
       "    <tr>\n",
       "      <th>2</th>\n",
       "      <td>61343323.0</td>\n",
       "      <td>360.0</td>\n",
       "      <td>1269.0</td>\n",
       "      <td>2016-12-28 00:06:00</td>\n",
       "      <td>99.0</td>\n",
       "      <td>Old Quebec Street, Marylebone</td>\n",
       "      <td>2016-12-28 00:00:00</td>\n",
       "      <td>116.0</td>\n",
       "      <td>Little Argyll Street, West End</td>\n",
       "    </tr>\n",
       "    <tr>\n",
       "      <th>3</th>\n",
       "      <td>61343325.0</td>\n",
       "      <td>1140.0</td>\n",
       "      <td>4208.0</td>\n",
       "      <td>2016-12-28 00:20:00</td>\n",
       "      <td>468.0</td>\n",
       "      <td>Cantrell Road, Bow</td>\n",
       "      <td>2016-12-28 00:01:00</td>\n",
       "      <td>443.0</td>\n",
       "      <td>Philpot Street, Whitechapel</td>\n",
       "    </tr>\n",
       "    <tr>\n",
       "      <th>4</th>\n",
       "      <td>61343324.0</td>\n",
       "      <td>NaN</td>\n",
       "      <td>1406.0</td>\n",
       "      <td>&lt;NA&gt;</td>\n",
       "      <td>NaN</td>\n",
       "      <td>&lt;NA&gt;</td>\n",
       "      <td>2016-12-28 00:01:00</td>\n",
       "      <td>319.0</td>\n",
       "      <td>Baldwin Street, St. Luke's</td>\n",
       "    </tr>\n",
       "    <tr>\n",
       "      <th>478034</th>\n",
       "      <td>101367955.0</td>\n",
       "      <td>240.0</td>\n",
       "      <td>15436.0</td>\n",
       "      <td>2020-09-01 23:53:00</td>\n",
       "      <td>652.0</td>\n",
       "      <td>Evesham Street, Avondale</td>\n",
       "      <td>2020-09-01 23:49:00</td>\n",
       "      <td>606.0</td>\n",
       "      <td>Addison Road, Holland Park</td>\n",
       "    </tr>\n",
       "    <tr>\n",
       "      <th>478035</th>\n",
       "      <td>101367958.0</td>\n",
       "      <td>60.0</td>\n",
       "      <td>10896.0</td>\n",
       "      <td>2020-09-01 23:51:00</td>\n",
       "      <td>488.0</td>\n",
       "      <td>Reardon Street, Wapping</td>\n",
       "      <td>2020-09-01 23:50:00</td>\n",
       "      <td>458.0</td>\n",
       "      <td>Wapping Lane, Wapping</td>\n",
       "    </tr>\n",
       "    <tr>\n",
       "      <th>478036</th>\n",
       "      <td>101367970.0</td>\n",
       "      <td>480.0</td>\n",
       "      <td>18116.0</td>\n",
       "      <td>2020-09-01 23:59:00</td>\n",
       "      <td>442.0</td>\n",
       "      <td>Walmer Road, Avondale</td>\n",
       "      <td>2020-09-01 23:51:00</td>\n",
       "      <td>442.0</td>\n",
       "      <td>Walmer Road, Avondale</td>\n",
       "    </tr>\n",
       "    <tr>\n",
       "      <th>478037</th>\n",
       "      <td>101367999.0</td>\n",
       "      <td>300.0</td>\n",
       "      <td>16371.0</td>\n",
       "      <td>2020-09-01 23:59:00</td>\n",
       "      <td>511.0</td>\n",
       "      <td>Sutton Street, Shadwell</td>\n",
       "      <td>2020-09-01 23:54:00</td>\n",
       "      <td>202.0</td>\n",
       "      <td>Leman Street, Aldgate</td>\n",
       "    </tr>\n",
       "    <tr>\n",
       "      <th>478038</th>\n",
       "      <td>101367995.0</td>\n",
       "      <td>240.0</td>\n",
       "      <td>8408.0</td>\n",
       "      <td>2020-09-01 23:58:00</td>\n",
       "      <td>56.0</td>\n",
       "      <td>Paddington Street, Marylebone</td>\n",
       "      <td>2020-09-01 23:54:00</td>\n",
       "      <td>367.0</td>\n",
       "      <td>Harrowby Street, Marylebone</td>\n",
       "    </tr>\n",
       "  </tbody>\n",
       "</table>\n",
       "</div>"
      ],
      "text/plain": [
       "          rental_id  duration  bike_id end_rental_date_time  end_station_id  \\\n",
       "0        61343322.0      60.0  12871.0  2016-12-28 00:01:00           660.0   \n",
       "1        61343321.0     300.0   2837.0  2016-12-28 00:05:00           763.0   \n",
       "2        61343323.0     360.0   1269.0  2016-12-28 00:06:00            99.0   \n",
       "3        61343325.0    1140.0   4208.0  2016-12-28 00:20:00           468.0   \n",
       "4        61343324.0       NaN   1406.0                 <NA>             NaN   \n",
       "478034  101367955.0     240.0  15436.0  2020-09-01 23:53:00           652.0   \n",
       "478035  101367958.0      60.0  10896.0  2020-09-01 23:51:00           488.0   \n",
       "478036  101367970.0     480.0  18116.0  2020-09-01 23:59:00           442.0   \n",
       "478037  101367999.0     300.0  16371.0  2020-09-01 23:59:00           511.0   \n",
       "478038  101367995.0     240.0   8408.0  2020-09-01 23:58:00            56.0   \n",
       "\n",
       "                                end_station_name start_rental_date_time  \\\n",
       "0       West Kensington Station, West Kensington    2016-12-28 00:00:00   \n",
       "1         Mile End Park Leisure Centre, Mile End    2016-12-28 00:00:00   \n",
       "2                  Old Quebec Street, Marylebone    2016-12-28 00:00:00   \n",
       "3                             Cantrell Road, Bow    2016-12-28 00:01:00   \n",
       "4                                           <NA>    2016-12-28 00:01:00   \n",
       "478034                  Evesham Street, Avondale    2020-09-01 23:49:00   \n",
       "478035                   Reardon Street, Wapping    2020-09-01 23:50:00   \n",
       "478036                     Walmer Road, Avondale    2020-09-01 23:51:00   \n",
       "478037                   Sutton Street, Shadwell    2020-09-01 23:54:00   \n",
       "478038             Paddington Street, Marylebone    2020-09-01 23:54:00   \n",
       "\n",
       "        start_station_id                   start_station_name  \n",
       "0                  633.0  Vereker Road North, West Kensington  \n",
       "1                  531.0          Twig Folly Bridge, Mile End  \n",
       "2                  116.0       Little Argyll Street, West End  \n",
       "3                  443.0          Philpot Street, Whitechapel  \n",
       "4                  319.0           Baldwin Street, St. Luke's  \n",
       "478034             606.0           Addison Road, Holland Park  \n",
       "478035             458.0                Wapping Lane, Wapping  \n",
       "478036             442.0                Walmer Road, Avondale  \n",
       "478037             202.0                Leman Street, Aldgate  \n",
       "478038             367.0          Harrowby Street, Marylebone  "
      ]
     },
     "execution_count": 26,
     "metadata": {},
     "output_type": "execute_result"
    }
   ],
   "source": [
    "pd.concat([df.head(),df.tail()])"
   ]
  },
  {
   "cell_type": "code",
   "execution_count": 27,
   "id": "a8963a2a",
   "metadata": {},
   "outputs": [
    {
     "name": "stdout",
     "output_type": "stream",
     "text": [
      "Wall time: 33.2 s\n"
     ]
    }
   ],
   "source": [
    "%%time\n",
    "# dask dataframe\n",
    "# group by\n",
    "df = None\n",
    "df = dd.read_csv(csvfile, assume_missing=True)\n",
    "grouped_df = df.groupby(['bike_id']).agg({'duration':'sum','rental_id':'count'})\n",
    "grouped_df = grouped_df.compute() # time-consuming\n",
    "grouped_df = grouped_df.sort_index().reset_index()"
   ]
  },
  {
   "cell_type": "code",
   "execution_count": 28,
   "id": "9dd25a7a",
   "metadata": {},
   "outputs": [
    {
     "data": {
      "text/plain": [
       "(16019, 3)"
      ]
     },
     "execution_count": 28,
     "metadata": {},
     "output_type": "execute_result"
    }
   ],
   "source": [
    "grouped_df.shape"
   ]
  },
  {
   "cell_type": "code",
   "execution_count": 29,
   "id": "feab9b91",
   "metadata": {},
   "outputs": [
    {
     "data": {
      "text/html": [
       "<div>\n",
       "<style scoped>\n",
       "    .dataframe tbody tr th:only-of-type {\n",
       "        vertical-align: middle;\n",
       "    }\n",
       "\n",
       "    .dataframe tbody tr th {\n",
       "        vertical-align: top;\n",
       "    }\n",
       "\n",
       "    .dataframe thead th {\n",
       "        text-align: right;\n",
       "    }\n",
       "</style>\n",
       "<table border=\"1\" class=\"dataframe\">\n",
       "  <thead>\n",
       "    <tr style=\"text-align: right;\">\n",
       "      <th></th>\n",
       "      <th>bike_id</th>\n",
       "      <th>duration</th>\n",
       "      <th>rental_id</th>\n",
       "    </tr>\n",
       "  </thead>\n",
       "  <tbody>\n",
       "    <tr>\n",
       "      <th>0</th>\n",
       "      <td>1.0</td>\n",
       "      <td>3889465.0</td>\n",
       "      <td>2653</td>\n",
       "    </tr>\n",
       "    <tr>\n",
       "      <th>1</th>\n",
       "      <td>2.0</td>\n",
       "      <td>2056260.0</td>\n",
       "      <td>1569</td>\n",
       "    </tr>\n",
       "    <tr>\n",
       "      <th>2</th>\n",
       "      <td>4.0</td>\n",
       "      <td>4086285.0</td>\n",
       "      <td>2905</td>\n",
       "    </tr>\n",
       "    <tr>\n",
       "      <th>3</th>\n",
       "      <td>5.0</td>\n",
       "      <td>3847900.0</td>\n",
       "      <td>2665</td>\n",
       "    </tr>\n",
       "    <tr>\n",
       "      <th>4</th>\n",
       "      <td>6.0</td>\n",
       "      <td>3776526.0</td>\n",
       "      <td>3092</td>\n",
       "    </tr>\n",
       "    <tr>\n",
       "      <th>16014</th>\n",
       "      <td>18499.0</td>\n",
       "      <td>6360.0</td>\n",
       "      <td>7</td>\n",
       "    </tr>\n",
       "    <tr>\n",
       "      <th>16015</th>\n",
       "      <td>18502.0</td>\n",
       "      <td>6960.0</td>\n",
       "      <td>8</td>\n",
       "    </tr>\n",
       "    <tr>\n",
       "      <th>16016</th>\n",
       "      <td>18505.0</td>\n",
       "      <td>4560.0</td>\n",
       "      <td>4</td>\n",
       "    </tr>\n",
       "    <tr>\n",
       "      <th>16017</th>\n",
       "      <td>18510.0</td>\n",
       "      <td>19440.0</td>\n",
       "      <td>14</td>\n",
       "    </tr>\n",
       "    <tr>\n",
       "      <th>16018</th>\n",
       "      <td>18512.0</td>\n",
       "      <td>8160.0</td>\n",
       "      <td>9</td>\n",
       "    </tr>\n",
       "  </tbody>\n",
       "</table>\n",
       "</div>"
      ],
      "text/plain": [
       "       bike_id   duration  rental_id\n",
       "0          1.0  3889465.0       2653\n",
       "1          2.0  2056260.0       1569\n",
       "2          4.0  4086285.0       2905\n",
       "3          5.0  3847900.0       2665\n",
       "4          6.0  3776526.0       3092\n",
       "16014  18499.0     6360.0          7\n",
       "16015  18502.0     6960.0          8\n",
       "16016  18505.0     4560.0          4\n",
       "16017  18510.0    19440.0         14\n",
       "16018  18512.0     8160.0          9"
      ]
     },
     "execution_count": 29,
     "metadata": {},
     "output_type": "execute_result"
    }
   ],
   "source": [
    "pd.concat([grouped_df.head(),grouped_df.tail()])"
   ]
  },
  {
   "cell_type": "markdown",
   "id": "f68136e6",
   "metadata": {},
   "source": [
    "## 4. The `pandas` on `ray` (`modin`) with `csv` file"
   ]
  },
  {
   "cell_type": "code",
   "execution_count": 30,
   "id": "5dad6efb",
   "metadata": {
    "scrolled": true
   },
   "outputs": [
    {
     "name": "stderr",
     "output_type": "stream",
     "text": [
      "2023-09-15 13:48:08,085\tINFO worker.py:1529 -- Started a local Ray instance. View the dashboard at \u001b[1m\u001b[32m127.0.0.1:8265 \u001b[39m\u001b[22m\n"
     ]
    },
    {
     "data": {
      "text/html": [
       "<div>\n",
       "    <div style=\"margin-left: 50px;display: flex;flex-direction: row;align-items: center\">\n",
       "        <h3 style=\"color: var(--jp-ui-font-color0)\">Ray</h3>\n",
       "        <svg version=\"1.1\" id=\"ray\" width=\"3em\" viewBox=\"0 0 144.5 144.6\" style=\"margin-left: 3em;margin-right: 3em\">\n",
       "            <g id=\"layer-1\">\n",
       "                <path fill=\"#00a2e9\" class=\"st0\" d=\"M97.3,77.2c-3.8-1.1-6.2,0.9-8.3,5.1c-3.5,6.8-9.9,9.9-17.4,9.6S58,88.1,54.8,81.2c-1.4-3-3-4-6.3-4.1\n",
       "                    c-5.6-0.1-9.9,0.1-13.1,6.4c-3.8,7.6-13.6,10.2-21.8,7.6C5.2,88.4-0.4,80.5,0,71.7c0.1-8.4,5.7-15.8,13.8-18.2\n",
       "                    c8.4-2.6,17.5,0.7,22.3,8c1.3,1.9,1.3,5.2,3.6,5.6c3.9,0.6,8,0.2,12,0.2c1.8,0,1.9-1.6,2.4-2.8c3.5-7.8,9.7-11.8,18-11.9\n",
       "                    c8.2-0.1,14.4,3.9,17.8,11.4c1.3,2.8,2.9,3.6,5.7,3.3c1-0.1,2,0.1,3,0c2.8-0.5,6.4,1.7,8.1-2.7s-2.3-5.5-4.1-7.5\n",
       "                    c-5.1-5.7-10.9-10.8-16.1-16.3C84,38,81.9,37.1,78,38.3C66.7,42,56.2,35.7,53,24.1C50.3,14,57.3,2.8,67.7,0.5\n",
       "                    C78.4-2,89,4.7,91.5,15.3c0.1,0.3,0.1,0.5,0.2,0.8c0.7,3.4,0.7,6.9-0.8,9.8c-1.7,3.2-0.8,5,1.5,7.2c6.7,6.5,13.3,13,19.8,19.7\n",
       "                    c1.8,1.8,3,2.1,5.5,1.2c9.1-3.4,17.9-0.6,23.4,7c4.8,6.9,4.6,16.1-0.4,22.9c-5.4,7.2-14.2,9.9-23.1,6.5c-2.3-0.9-3.5-0.6-5.1,1.1\n",
       "                    c-6.7,6.9-13.6,13.7-20.5,20.4c-1.8,1.8-2.5,3.2-1.4,5.9c3.5,8.7,0.3,18.6-7.7,23.6c-7.9,5-18.2,3.8-24.8-2.9\n",
       "                    c-6.4-6.4-7.4-16.2-2.5-24.3c4.9-7.8,14.5-11,23.1-7.8c3,1.1,4.7,0.5,6.9-1.7C91.7,98.4,98,92.3,104.2,86c1.6-1.6,4.1-2.7,2.6-6.2\n",
       "                    c-1.4-3.3-3.8-2.5-6.2-2.6C99.8,77.2,98.9,77.2,97.3,77.2z M72.1,29.7c5.5,0.1,9.9-4.3,10-9.8c0-0.1,0-0.2,0-0.3\n",
       "                    C81.8,14,77,9.8,71.5,10.2c-5,0.3-9,4.2-9.3,9.2c-0.2,5.5,4,10.1,9.5,10.3C71.8,29.7,72,29.7,72.1,29.7z M72.3,62.3\n",
       "                    c-5.4-0.1-9.9,4.2-10.1,9.7c0,0.2,0,0.3,0,0.5c0.2,5.4,4.5,9.7,9.9,10c5.1,0.1,9.9-4.7,10.1-9.8c0.2-5.5-4-10-9.5-10.3\n",
       "                    C72.6,62.3,72.4,62.3,72.3,62.3z M115,72.5c0.1,5.4,4.5,9.7,9.8,9.9c5.6-0.2,10-4.8,10-10.4c-0.2-5.4-4.6-9.7-10-9.7\n",
       "                    c-5.3-0.1-9.8,4.2-9.9,9.5C115,72.1,115,72.3,115,72.5z M19.5,62.3c-5.4,0.1-9.8,4.4-10,9.8c-0.1,5.1,5.2,10.4,10.2,10.3\n",
       "                    c5.6-0.2,10-4.9,9.8-10.5c-0.1-5.4-4.5-9.7-9.9-9.6C19.6,62.3,19.5,62.3,19.5,62.3z M71.8,134.6c5.9,0.2,10.3-3.9,10.4-9.6\n",
       "                    c0.5-5.5-3.6-10.4-9.1-10.8c-5.5-0.5-10.4,3.6-10.8,9.1c0,0.5,0,0.9,0,1.4c-0.2,5.3,4,9.8,9.3,10\n",
       "                    C71.6,134.6,71.7,134.6,71.8,134.6z\"/>\n",
       "            </g>\n",
       "        </svg>\n",
       "        <table>\n",
       "            <tr>\n",
       "                <td style=\"text-align: left\"><b>Python version:</b></td>\n",
       "                <td style=\"text-align: left\"><b>3.9.12</b></td>\n",
       "            </tr>\n",
       "            <tr>\n",
       "                <td style=\"text-align: left\"><b>Ray version:</b></td>\n",
       "                <td style=\"text-align: left\"><b> 2.2.0</b></td>\n",
       "            </tr>\n",
       "            <tr>\n",
       "    <td style=\"text-align: left\"><b>Dashboard:</b></td>\n",
       "    <td style=\"text-align: left\"><b><a href=\"http://127.0.0.1:8265\" target=\"_blank\">http://127.0.0.1:8265</a></b></td>\n",
       "</tr>\n",
       "\n",
       "        </table>\n",
       "    </div>\n",
       "</div>\n"
      ],
      "text/plain": [
       "RayContext(dashboard_url='127.0.0.1:8265', python_version='3.9.12', ray_version='2.2.0', ray_commit='b6af0887ee5f2e460202133791ad941a41f15beb', address_info={'node_ip_address': '127.0.0.1', 'raylet_ip_address': '127.0.0.1', 'redis_address': None, 'object_store_address': 'tcp://127.0.0.1:53772', 'raylet_socket_name': 'tcp://127.0.0.1:58700', 'webui_url': '127.0.0.1:8265', 'session_dir': 'C:\\\\Users\\\\ranaf\\\\AppData\\\\Local\\\\Temp\\\\ray\\\\session_2023-09-15_13-48-04_215619_26896', 'metrics_export_port': 59871, 'gcs_address': '127.0.0.1:54433', 'address': '127.0.0.1:54433', 'dashboard_agent_listen_port': 52365, 'node_id': '3fccf030aa7cb681e830dc8d51a6bd906be45f1765364176f61a1df0'})"
      ]
     },
     "execution_count": 30,
     "metadata": {},
     "output_type": "execute_result"
    }
   ],
   "source": [
    "ray.shutdown()\n",
    "ray.init(num_cpus=num_cpus, \n",
    "         ignore_reinit_error=True)"
   ]
  },
  {
   "cell_type": "code",
   "execution_count": 31,
   "id": "99fd2387",
   "metadata": {},
   "outputs": [],
   "source": [
    "os.environ['__MODIN_AUTOIMPORT_PANDAS__'] = '1'"
   ]
  },
  {
   "cell_type": "code",
   "execution_count": 32,
   "id": "1cdc4be5",
   "metadata": {},
   "outputs": [],
   "source": [
    "os.environ['MODIN_ENGINE'] = 'ray'"
   ]
  },
  {
   "cell_type": "code",
   "execution_count": 33,
   "id": "2fd26b6f",
   "metadata": {},
   "outputs": [
    {
     "name": "stdout",
     "output_type": "stream",
     "text": [
      "Wall time: 37.9 s\n"
     ]
    }
   ],
   "source": [
    "%%time\n",
    "# modin pandas\n",
    "# read file\n",
    "df = None\n",
    "df = md.read_csv(csvfile) # time-consuming"
   ]
  },
  {
   "cell_type": "code",
   "execution_count": 34,
   "id": "5b5a3ab5",
   "metadata": {},
   "outputs": [
    {
     "data": {
      "text/plain": [
       "(38215560, 9)"
      ]
     },
     "execution_count": 34,
     "metadata": {},
     "output_type": "execute_result"
    }
   ],
   "source": [
    "df.shape"
   ]
  },
  {
   "cell_type": "code",
   "execution_count": 35,
   "id": "32d4e3c8",
   "metadata": {
    "scrolled": false
   },
   "outputs": [
    {
     "data": {
      "text/html": [
       "<div>\n",
       "<style scoped>\n",
       "    .dataframe tbody tr th:only-of-type {\n",
       "        vertical-align: middle;\n",
       "    }\n",
       "\n",
       "    .dataframe tbody tr th {\n",
       "        vertical-align: top;\n",
       "    }\n",
       "\n",
       "    .dataframe thead th {\n",
       "        text-align: right;\n",
       "    }\n",
       "</style>\n",
       "<table border=\"1\" class=\"dataframe\">\n",
       "  <thead>\n",
       "    <tr style=\"text-align: right;\">\n",
       "      <th></th>\n",
       "      <th>rental_id</th>\n",
       "      <th>duration</th>\n",
       "      <th>bike_id</th>\n",
       "      <th>end_rental_date_time</th>\n",
       "      <th>end_station_id</th>\n",
       "      <th>end_station_name</th>\n",
       "      <th>start_rental_date_time</th>\n",
       "      <th>start_station_id</th>\n",
       "      <th>start_station_name</th>\n",
       "    </tr>\n",
       "  </thead>\n",
       "  <tbody>\n",
       "    <tr>\n",
       "      <th>0</th>\n",
       "      <td>61343322</td>\n",
       "      <td>60.0</td>\n",
       "      <td>12871.0</td>\n",
       "      <td>2016-12-28 00:01:00</td>\n",
       "      <td>660.0</td>\n",
       "      <td>West Kensington Station, West Kensington</td>\n",
       "      <td>2016-12-28 00:00:00</td>\n",
       "      <td>633</td>\n",
       "      <td>Vereker Road North, West Kensington</td>\n",
       "    </tr>\n",
       "    <tr>\n",
       "      <th>1</th>\n",
       "      <td>61343321</td>\n",
       "      <td>300.0</td>\n",
       "      <td>2837.0</td>\n",
       "      <td>2016-12-28 00:05:00</td>\n",
       "      <td>763.0</td>\n",
       "      <td>Mile End Park Leisure Centre, Mile End</td>\n",
       "      <td>2016-12-28 00:00:00</td>\n",
       "      <td>531</td>\n",
       "      <td>Twig Folly Bridge, Mile End</td>\n",
       "    </tr>\n",
       "    <tr>\n",
       "      <th>2</th>\n",
       "      <td>61343323</td>\n",
       "      <td>360.0</td>\n",
       "      <td>1269.0</td>\n",
       "      <td>2016-12-28 00:06:00</td>\n",
       "      <td>99.0</td>\n",
       "      <td>Old Quebec Street, Marylebone</td>\n",
       "      <td>2016-12-28 00:00:00</td>\n",
       "      <td>116</td>\n",
       "      <td>Little Argyll Street, West End</td>\n",
       "    </tr>\n",
       "    <tr>\n",
       "      <th>3</th>\n",
       "      <td>61343325</td>\n",
       "      <td>1140.0</td>\n",
       "      <td>4208.0</td>\n",
       "      <td>2016-12-28 00:20:00</td>\n",
       "      <td>468.0</td>\n",
       "      <td>Cantrell Road, Bow</td>\n",
       "      <td>2016-12-28 00:01:00</td>\n",
       "      <td>443</td>\n",
       "      <td>Philpot Street, Whitechapel</td>\n",
       "    </tr>\n",
       "    <tr>\n",
       "      <th>4</th>\n",
       "      <td>61343324</td>\n",
       "      <td>NaN</td>\n",
       "      <td>1406.0</td>\n",
       "      <td>NaN</td>\n",
       "      <td>NaN</td>\n",
       "      <td>NaN</td>\n",
       "      <td>2016-12-28 00:01:00</td>\n",
       "      <td>319</td>\n",
       "      <td>Baldwin Street, St. Luke's</td>\n",
       "    </tr>\n",
       "    <tr>\n",
       "      <th>38215555</th>\n",
       "      <td>101367955</td>\n",
       "      <td>240.0</td>\n",
       "      <td>15436.0</td>\n",
       "      <td>2020-09-01 23:53:00</td>\n",
       "      <td>652.0</td>\n",
       "      <td>Evesham Street, Avondale</td>\n",
       "      <td>2020-09-01 23:49:00</td>\n",
       "      <td>606</td>\n",
       "      <td>Addison Road, Holland Park</td>\n",
       "    </tr>\n",
       "    <tr>\n",
       "      <th>38215556</th>\n",
       "      <td>101367958</td>\n",
       "      <td>60.0</td>\n",
       "      <td>10896.0</td>\n",
       "      <td>2020-09-01 23:51:00</td>\n",
       "      <td>488.0</td>\n",
       "      <td>Reardon Street, Wapping</td>\n",
       "      <td>2020-09-01 23:50:00</td>\n",
       "      <td>458</td>\n",
       "      <td>Wapping Lane, Wapping</td>\n",
       "    </tr>\n",
       "    <tr>\n",
       "      <th>38215557</th>\n",
       "      <td>101367970</td>\n",
       "      <td>480.0</td>\n",
       "      <td>18116.0</td>\n",
       "      <td>2020-09-01 23:59:00</td>\n",
       "      <td>442.0</td>\n",
       "      <td>Walmer Road, Avondale</td>\n",
       "      <td>2020-09-01 23:51:00</td>\n",
       "      <td>442</td>\n",
       "      <td>Walmer Road, Avondale</td>\n",
       "    </tr>\n",
       "    <tr>\n",
       "      <th>38215558</th>\n",
       "      <td>101367999</td>\n",
       "      <td>300.0</td>\n",
       "      <td>16371.0</td>\n",
       "      <td>2020-09-01 23:59:00</td>\n",
       "      <td>511.0</td>\n",
       "      <td>Sutton Street, Shadwell</td>\n",
       "      <td>2020-09-01 23:54:00</td>\n",
       "      <td>202</td>\n",
       "      <td>Leman Street, Aldgate</td>\n",
       "    </tr>\n",
       "    <tr>\n",
       "      <th>38215559</th>\n",
       "      <td>101367995</td>\n",
       "      <td>240.0</td>\n",
       "      <td>8408.0</td>\n",
       "      <td>2020-09-01 23:58:00</td>\n",
       "      <td>56.0</td>\n",
       "      <td>Paddington Street, Marylebone</td>\n",
       "      <td>2020-09-01 23:54:00</td>\n",
       "      <td>367</td>\n",
       "      <td>Harrowby Street, Marylebone</td>\n",
       "    </tr>\n",
       "  </tbody>\n",
       "</table>\n",
       "</div>"
      ],
      "text/plain": [
       "          rental_id  duration  bike_id end_rental_date_time  end_station_id  \\\n",
       "0          61343322      60.0  12871.0  2016-12-28 00:01:00           660.0   \n",
       "1          61343321     300.0   2837.0  2016-12-28 00:05:00           763.0   \n",
       "2          61343323     360.0   1269.0  2016-12-28 00:06:00            99.0   \n",
       "3          61343325    1140.0   4208.0  2016-12-28 00:20:00           468.0   \n",
       "4          61343324       NaN   1406.0                  NaN             NaN   \n",
       "38215555  101367955     240.0  15436.0  2020-09-01 23:53:00           652.0   \n",
       "38215556  101367958      60.0  10896.0  2020-09-01 23:51:00           488.0   \n",
       "38215557  101367970     480.0  18116.0  2020-09-01 23:59:00           442.0   \n",
       "38215558  101367999     300.0  16371.0  2020-09-01 23:59:00           511.0   \n",
       "38215559  101367995     240.0   8408.0  2020-09-01 23:58:00            56.0   \n",
       "\n",
       "                                  end_station_name start_rental_date_time  \\\n",
       "0         West Kensington Station, West Kensington    2016-12-28 00:00:00   \n",
       "1           Mile End Park Leisure Centre, Mile End    2016-12-28 00:00:00   \n",
       "2                    Old Quebec Street, Marylebone    2016-12-28 00:00:00   \n",
       "3                               Cantrell Road, Bow    2016-12-28 00:01:00   \n",
       "4                                              NaN    2016-12-28 00:01:00   \n",
       "38215555                  Evesham Street, Avondale    2020-09-01 23:49:00   \n",
       "38215556                   Reardon Street, Wapping    2020-09-01 23:50:00   \n",
       "38215557                     Walmer Road, Avondale    2020-09-01 23:51:00   \n",
       "38215558                   Sutton Street, Shadwell    2020-09-01 23:54:00   \n",
       "38215559             Paddington Street, Marylebone    2020-09-01 23:54:00   \n",
       "\n",
       "          start_station_id                   start_station_name  \n",
       "0                      633  Vereker Road North, West Kensington  \n",
       "1                      531          Twig Folly Bridge, Mile End  \n",
       "2                      116       Little Argyll Street, West End  \n",
       "3                      443          Philpot Street, Whitechapel  \n",
       "4                      319           Baldwin Street, St. Luke's  \n",
       "38215555               606           Addison Road, Holland Park  \n",
       "38215556               458                Wapping Lane, Wapping  \n",
       "38215557               442                Walmer Road, Avondale  \n",
       "38215558               202                Leman Street, Aldgate  \n",
       "38215559               367          Harrowby Street, Marylebone  "
      ]
     },
     "execution_count": 35,
     "metadata": {},
     "output_type": "execute_result"
    }
   ],
   "source": [
    "md.concat([df.head(),df.tail()])"
   ]
  },
  {
   "cell_type": "code",
   "execution_count": 36,
   "id": "6f4bd635",
   "metadata": {},
   "outputs": [
    {
     "name": "stdout",
     "output_type": "stream",
     "text": [
      "Wall time: 36.2 s\n"
     ]
    }
   ],
   "source": [
    "%%time\n",
    "# modin pandas\n",
    "# group by\n",
    "df = None\n",
    "df = md.read_csv(csvfile) # time-consuming\n",
    "grouped_df = df.groupby(['bike_id']).agg({'duration':'sum','rental_id':'count'})\n",
    "grouped_df = grouped_df.reset_index()"
   ]
  },
  {
   "cell_type": "code",
   "execution_count": 37,
   "id": "09b2fcc2",
   "metadata": {},
   "outputs": [
    {
     "data": {
      "text/plain": [
       "(16019, 3)"
      ]
     },
     "execution_count": 37,
     "metadata": {},
     "output_type": "execute_result"
    }
   ],
   "source": [
    "grouped_df.shape"
   ]
  },
  {
   "cell_type": "code",
   "execution_count": 38,
   "id": "e7d74bb4",
   "metadata": {},
   "outputs": [
    {
     "data": {
      "text/html": [
       "<div>\n",
       "<style scoped>\n",
       "    .dataframe tbody tr th:only-of-type {\n",
       "        vertical-align: middle;\n",
       "    }\n",
       "\n",
       "    .dataframe tbody tr th {\n",
       "        vertical-align: top;\n",
       "    }\n",
       "\n",
       "    .dataframe thead th {\n",
       "        text-align: right;\n",
       "    }\n",
       "</style>\n",
       "<table border=\"1\" class=\"dataframe\">\n",
       "  <thead>\n",
       "    <tr style=\"text-align: right;\">\n",
       "      <th></th>\n",
       "      <th>bike_id</th>\n",
       "      <th>duration</th>\n",
       "      <th>rental_id</th>\n",
       "    </tr>\n",
       "  </thead>\n",
       "  <tbody>\n",
       "    <tr>\n",
       "      <th>0</th>\n",
       "      <td>1.0</td>\n",
       "      <td>3889465.0</td>\n",
       "      <td>2653</td>\n",
       "    </tr>\n",
       "    <tr>\n",
       "      <th>1</th>\n",
       "      <td>2.0</td>\n",
       "      <td>2056260.0</td>\n",
       "      <td>1569</td>\n",
       "    </tr>\n",
       "    <tr>\n",
       "      <th>2</th>\n",
       "      <td>4.0</td>\n",
       "      <td>4086285.0</td>\n",
       "      <td>2905</td>\n",
       "    </tr>\n",
       "    <tr>\n",
       "      <th>3</th>\n",
       "      <td>5.0</td>\n",
       "      <td>3847900.0</td>\n",
       "      <td>2665</td>\n",
       "    </tr>\n",
       "    <tr>\n",
       "      <th>4</th>\n",
       "      <td>6.0</td>\n",
       "      <td>3776526.0</td>\n",
       "      <td>3092</td>\n",
       "    </tr>\n",
       "    <tr>\n",
       "      <th>16014</th>\n",
       "      <td>18499.0</td>\n",
       "      <td>6360.0</td>\n",
       "      <td>7</td>\n",
       "    </tr>\n",
       "    <tr>\n",
       "      <th>16015</th>\n",
       "      <td>18502.0</td>\n",
       "      <td>6960.0</td>\n",
       "      <td>8</td>\n",
       "    </tr>\n",
       "    <tr>\n",
       "      <th>16016</th>\n",
       "      <td>18505.0</td>\n",
       "      <td>4560.0</td>\n",
       "      <td>4</td>\n",
       "    </tr>\n",
       "    <tr>\n",
       "      <th>16017</th>\n",
       "      <td>18510.0</td>\n",
       "      <td>19440.0</td>\n",
       "      <td>14</td>\n",
       "    </tr>\n",
       "    <tr>\n",
       "      <th>16018</th>\n",
       "      <td>18512.0</td>\n",
       "      <td>8160.0</td>\n",
       "      <td>9</td>\n",
       "    </tr>\n",
       "  </tbody>\n",
       "</table>\n",
       "</div>"
      ],
      "text/plain": [
       "       bike_id   duration  rental_id\n",
       "0          1.0  3889465.0       2653\n",
       "1          2.0  2056260.0       1569\n",
       "2          4.0  4086285.0       2905\n",
       "3          5.0  3847900.0       2665\n",
       "4          6.0  3776526.0       3092\n",
       "16014  18499.0     6360.0          7\n",
       "16015  18502.0     6960.0          8\n",
       "16016  18505.0     4560.0          4\n",
       "16017  18510.0    19440.0         14\n",
       "16018  18512.0     8160.0          9"
      ]
     },
     "execution_count": 38,
     "metadata": {},
     "output_type": "execute_result"
    }
   ],
   "source": [
    "md.concat([grouped_df.head(),grouped_df.tail()])"
   ]
  },
  {
   "cell_type": "code",
   "execution_count": 39,
   "id": "39ad5313",
   "metadata": {},
   "outputs": [],
   "source": [
    "ray.shutdown()"
   ]
  },
  {
   "cell_type": "markdown",
   "id": "50ad468c",
   "metadata": {},
   "source": [
    "## 5. The `pyspark` with `csv` file"
   ]
  },
  {
   "cell_type": "code",
   "execution_count": 40,
   "id": "4d234136",
   "metadata": {},
   "outputs": [
    {
     "data": {
      "text/plain": [
       "Index(['rental_id', 'duration', 'bike_id', 'end_rental_date_time',\n",
       "       'end_station_id', 'end_station_name', 'start_rental_date_time',\n",
       "       'start_station_id', 'start_station_name'],\n",
       "      dtype='object')"
      ]
     },
     "execution_count": 40,
     "metadata": {},
     "output_type": "execute_result"
    }
   ],
   "source": [
    "df.columns"
   ]
  },
  {
   "cell_type": "code",
   "execution_count": 41,
   "id": "f4bdcec7",
   "metadata": {},
   "outputs": [
    {
     "name": "stdout",
     "output_type": "stream",
     "text": [
      "root\n",
      " |-- rental_id: integer (nullable = true)\n",
      " |-- duration: float (nullable = true)\n",
      " |-- bike_id: float (nullable = true)\n",
      " |-- end_rental_date_time: timestamp (nullable = true)\n",
      " |-- end_station_id: float (nullable = true)\n",
      " |-- end_station_name: string (nullable = true)\n",
      " |-- start_rental_date_time: timestamp (nullable = true)\n",
      " |-- start_station_id: integer (nullable = true)\n",
      " |-- start_station_name: string (nullable = true)\n",
      "\n",
      "+---------+--------+-------+--------------------+--------------+--------------------+----------------------+----------------+--------------------+\n",
      "|rental_id|duration|bike_id|end_rental_date_time|end_station_id|    end_station_name|start_rental_date_time|start_station_id|  start_station_name|\n",
      "+---------+--------+-------+--------------------+--------------+--------------------+----------------------+----------------+--------------------+\n",
      "| 61343322|    60.0|12871.0| 2016-12-28 00:01:00|         660.0|West Kensington S...|   2016-12-28 00:00:00|             633|Vereker Road Nort...|\n",
      "| 61343321|   300.0| 2837.0| 2016-12-28 00:05:00|         763.0|Mile End Park Lei...|   2016-12-28 00:00:00|             531|Twig Folly Bridge...|\n",
      "| 61343323|   360.0| 1269.0| 2016-12-28 00:06:00|          99.0|Old Quebec Street...|   2016-12-28 00:00:00|             116|Little Argyll Str...|\n",
      "| 61343325|  1140.0| 4208.0| 2016-12-28 00:20:00|         468.0|  Cantrell Road, Bow|   2016-12-28 00:01:00|             443|Philpot Street, W...|\n",
      "| 61343324|    null| 1406.0|                null|          null|                null|   2016-12-28 00:01:00|             319|Baldwin Street, S...|\n",
      "| 61343326|  1380.0|11485.0| 2016-12-28 00:25:00|         219.0|Bramham Gardens, ...|   2016-12-28 00:02:00|             116|Little Argyll Str...|\n",
      "| 61343327|   960.0| 7686.0| 2016-12-28 00:20:00|         710.0|Albert Bridge Roa...|   2016-12-28 00:04:00|              74|Vauxhall Cross, V...|\n",
      "| 61343328|   720.0| 4192.0| 2016-12-28 00:16:00|         260.0|Broadwick Street,...|   2016-12-28 00:04:00|             188|Nutford Place, Ma...|\n",
      "| 61343329|   780.0|10103.0| 2016-12-28 00:18:00|         233.0|Pall Mall East, W...|   2016-12-28 00:05:00|              68|Theobald's Road ,...|\n",
      "| 61343330|   180.0|14189.0| 2016-12-28 00:08:00|         275.0|Barbican Centre, ...|   2016-12-28 00:05:00|              95|Aldersgate Street...|\n",
      "+---------+--------+-------+--------------------+--------------+--------------------+----------------------+----------------+--------------------+\n",
      "only showing top 10 rows\n",
      "\n",
      "Wall time: 10.4 s\n"
     ]
    }
   ],
   "source": [
    "%%time\n",
    "spark = SparkSession.builder.appName('readingLargeCSVFile')\\\n",
    "                            .getOrCreate()\n",
    "\n",
    "schema = StructType() \\\n",
    "        .add('rental_id',IntegerType(),True) \\\n",
    "        .add('duration' ,FloatType(),True) \\\n",
    "        .add('bike_id'  ,FloatType(),True) \\\n",
    "        .add('end_rental_date_time' ,TimestampType(),True) \\\n",
    "        .add('end_station_id' ,FloatType(),True) \\\n",
    "        .add('end_station_name' ,StringType(),True) \\\n",
    "        .add('start_rental_date_time' ,TimestampType(),True) \\\n",
    "        .add('start_station_id' ,IntegerType(),True) \\\n",
    "        .add('start_station_name' ,StringType(),True) \\\n",
    "\n",
    "df = spark.read.format('csv').options(header='True', inferSchema='False', delimiter=',').schema(schema).load(csvfile) \n",
    "\n",
    "df.printSchema()\n",
    "df.show(10)\n",
    "\n",
    "spark.stop()"
   ]
  },
  {
   "cell_type": "code",
   "execution_count": 42,
   "id": "6fb39152",
   "metadata": {},
   "outputs": [
    {
     "name": "stdout",
     "output_type": "stream",
     "text": [
      "root\n",
      " |-- bike_id: float (nullable = true)\n",
      " |-- sum(duration): double (nullable = true)\n",
      " |-- count(rental_id): long (nullable = false)\n",
      "\n",
      "+-------+-------------+----------------+\n",
      "|bike_id|sum(duration)|count(rental_id)|\n",
      "+-------+-------------+----------------+\n",
      "|   null|     267180.0|              17|\n",
      "|    1.0|    3889465.0|            2653|\n",
      "|    2.0|    2056260.0|            1569|\n",
      "|    4.0|    4086285.0|            2905|\n",
      "|    5.0|    3847900.0|            2665|\n",
      "|    6.0|    3776526.0|            3092|\n",
      "|    7.0|    1360755.0|            1188|\n",
      "|    8.0|    4212032.0|            3233|\n",
      "|    9.0|    4161402.0|            3112|\n",
      "|   10.0|    2803224.0|            2309|\n",
      "+-------+-------------+----------------+\n",
      "only showing top 10 rows\n",
      "\n",
      "Wall time: 15.8 s\n"
     ]
    }
   ],
   "source": [
    "%%time\n",
    "spark = SparkSession.builder.appName('readingLargeCSVFile')\\\n",
    "                            .getOrCreate()\n",
    "\n",
    "schema = StructType() \\\n",
    "        .add('rental_id',IntegerType(),True) \\\n",
    "        .add('duration' ,FloatType(),True) \\\n",
    "        .add('bike_id'  ,FloatType(),True) \\\n",
    "        .add('end_rental_date_time' ,TimestampType(),True) \\\n",
    "        .add('end_station_id' ,FloatType(),True) \\\n",
    "        .add('end_station_name' ,StringType(),True) \\\n",
    "        .add('start_rental_date_time' ,TimestampType(),True) \\\n",
    "        .add('start_station_id' ,IntegerType(),True) \\\n",
    "        .add('start_station_name' ,StringType(),True) \\\n",
    "\n",
    "df = spark.read.format('csv').options(header='True', inferSchema='False', delimiter=',').schema(schema).load(csvfile) \n",
    "\n",
    "grouped_df = df.groupBy(['bike_id']).agg({'duration':'sum','rental_id':'count'})\n",
    "grouped_df = grouped_df.sort(PysparkFunc.col('bike_id').asc())\n",
    "\n",
    "grouped_df.printSchema()\n",
    "grouped_df.show(10)\n",
    "\n",
    "spark.stop()"
   ]
  },
  {
   "cell_type": "code",
   "execution_count": null,
   "id": "87af80b4",
   "metadata": {},
   "outputs": [],
   "source": []
  },
  {
   "cell_type": "markdown",
   "id": "c7462da5",
   "metadata": {},
   "source": [
    "## 6. Traditional `pandas` with `parquet` file"
   ]
  },
  {
   "cell_type": "code",
   "execution_count": 8,
   "id": "a1fe5047",
   "metadata": {},
   "outputs": [],
   "source": [
    "parquetfile = data_path+'bikes-1.parquet'"
   ]
  },
  {
   "cell_type": "code",
   "execution_count": 45,
   "id": "608e0080",
   "metadata": {},
   "outputs": [
    {
     "name": "stdout",
     "output_type": "stream",
     "text": [
      "Wall time: 39.1 s\n"
     ]
    }
   ],
   "source": [
    "%%time\n",
    "# dask dataframe\n",
    "# create parquet file\n",
    "df = None\n",
    "df = dd.read_csv(csvfile, assume_missing=True)\n",
    "df.to_parquet(parquetfile)"
   ]
  },
  {
   "cell_type": "code",
   "execution_count": 46,
   "id": "4d325566",
   "metadata": {},
   "outputs": [
    {
     "name": "stdout",
     "output_type": "stream",
     "text": [
      "Wall time: 1min\n"
     ]
    }
   ],
   "source": [
    "%%time\n",
    "# traditional pandas\n",
    "# read file\n",
    "df = None\n",
    "df = pd.read_parquet(parquetfile)"
   ]
  },
  {
   "cell_type": "code",
   "execution_count": 47,
   "id": "479dd7bd",
   "metadata": {},
   "outputs": [
    {
     "data": {
      "text/plain": [
       "(38215560, 9)"
      ]
     },
     "execution_count": 47,
     "metadata": {},
     "output_type": "execute_result"
    }
   ],
   "source": [
    "df.shape"
   ]
  },
  {
   "cell_type": "code",
   "execution_count": 48,
   "id": "a4273905",
   "metadata": {},
   "outputs": [
    {
     "name": "stdout",
     "output_type": "stream",
     "text": [
      "<class 'pandas.core.frame.DataFrame'>\n",
      "Index: 38215560 entries, 0 to 485435\n",
      "Data columns (total 9 columns):\n",
      " #   Column                  Dtype  \n",
      "---  ------                  -----  \n",
      " 0   rental_id               float64\n",
      " 1   duration                float64\n",
      " 2   bike_id                 float64\n",
      " 3   end_rental_date_time    string \n",
      " 4   end_station_id          float64\n",
      " 5   end_station_name        string \n",
      " 6   start_rental_date_time  string \n",
      " 7   start_station_id        float64\n",
      " 8   start_station_name      string \n",
      "dtypes: float64(5), string(4)\n",
      "memory usage: 2.8 GB\n"
     ]
    }
   ],
   "source": [
    "df.info()"
   ]
  },
  {
   "cell_type": "code",
   "execution_count": 49,
   "id": "55b77953",
   "metadata": {},
   "outputs": [
    {
     "data": {
      "text/plain": [
       "rental_id                     0\n",
       "duration                  67617\n",
       "bike_id                      17\n",
       "end_rental_date_time      67617\n",
       "end_station_id            68213\n",
       "end_station_name          68213\n",
       "start_rental_date_time        0\n",
       "start_station_id              0\n",
       "start_station_name            0\n",
       "dtype: int64"
      ]
     },
     "execution_count": 49,
     "metadata": {},
     "output_type": "execute_result"
    }
   ],
   "source": [
    "df.isnull().sum()"
   ]
  },
  {
   "cell_type": "code",
   "execution_count": 50,
   "id": "dccf9a8a",
   "metadata": {},
   "outputs": [
    {
     "data": {
      "text/plain": [
       "True"
      ]
     },
     "execution_count": 50,
     "metadata": {},
     "output_type": "execute_result"
    }
   ],
   "source": [
    "df['rental_id'].is_unique"
   ]
  },
  {
   "cell_type": "code",
   "execution_count": 51,
   "id": "4812a703",
   "metadata": {},
   "outputs": [
    {
     "data": {
      "text/html": [
       "<div>\n",
       "<style scoped>\n",
       "    .dataframe tbody tr th:only-of-type {\n",
       "        vertical-align: middle;\n",
       "    }\n",
       "\n",
       "    .dataframe tbody tr th {\n",
       "        vertical-align: top;\n",
       "    }\n",
       "\n",
       "    .dataframe thead th {\n",
       "        text-align: right;\n",
       "    }\n",
       "</style>\n",
       "<table border=\"1\" class=\"dataframe\">\n",
       "  <thead>\n",
       "    <tr style=\"text-align: right;\">\n",
       "      <th></th>\n",
       "      <th>rental_id</th>\n",
       "      <th>duration</th>\n",
       "      <th>bike_id</th>\n",
       "      <th>end_rental_date_time</th>\n",
       "      <th>end_station_id</th>\n",
       "      <th>end_station_name</th>\n",
       "      <th>start_rental_date_time</th>\n",
       "      <th>start_station_id</th>\n",
       "      <th>start_station_name</th>\n",
       "    </tr>\n",
       "    <tr>\n",
       "      <th>__null_dask_index__</th>\n",
       "      <th></th>\n",
       "      <th></th>\n",
       "      <th></th>\n",
       "      <th></th>\n",
       "      <th></th>\n",
       "      <th></th>\n",
       "      <th></th>\n",
       "      <th></th>\n",
       "      <th></th>\n",
       "    </tr>\n",
       "  </thead>\n",
       "  <tbody>\n",
       "    <tr>\n",
       "      <th>0</th>\n",
       "      <td>61343322.0</td>\n",
       "      <td>60.0</td>\n",
       "      <td>12871.0</td>\n",
       "      <td>2016-12-28 00:01:00</td>\n",
       "      <td>660.0</td>\n",
       "      <td>West Kensington Station, West Kensington</td>\n",
       "      <td>2016-12-28 00:00:00</td>\n",
       "      <td>633.0</td>\n",
       "      <td>Vereker Road North, West Kensington</td>\n",
       "    </tr>\n",
       "    <tr>\n",
       "      <th>1</th>\n",
       "      <td>61343321.0</td>\n",
       "      <td>300.0</td>\n",
       "      <td>2837.0</td>\n",
       "      <td>2016-12-28 00:05:00</td>\n",
       "      <td>763.0</td>\n",
       "      <td>Mile End Park Leisure Centre, Mile End</td>\n",
       "      <td>2016-12-28 00:00:00</td>\n",
       "      <td>531.0</td>\n",
       "      <td>Twig Folly Bridge, Mile End</td>\n",
       "    </tr>\n",
       "    <tr>\n",
       "      <th>2</th>\n",
       "      <td>61343323.0</td>\n",
       "      <td>360.0</td>\n",
       "      <td>1269.0</td>\n",
       "      <td>2016-12-28 00:06:00</td>\n",
       "      <td>99.0</td>\n",
       "      <td>Old Quebec Street, Marylebone</td>\n",
       "      <td>2016-12-28 00:00:00</td>\n",
       "      <td>116.0</td>\n",
       "      <td>Little Argyll Street, West End</td>\n",
       "    </tr>\n",
       "    <tr>\n",
       "      <th>3</th>\n",
       "      <td>61343325.0</td>\n",
       "      <td>1140.0</td>\n",
       "      <td>4208.0</td>\n",
       "      <td>2016-12-28 00:20:00</td>\n",
       "      <td>468.0</td>\n",
       "      <td>Cantrell Road, Bow</td>\n",
       "      <td>2016-12-28 00:01:00</td>\n",
       "      <td>443.0</td>\n",
       "      <td>Philpot Street, Whitechapel</td>\n",
       "    </tr>\n",
       "    <tr>\n",
       "      <th>4</th>\n",
       "      <td>61343324.0</td>\n",
       "      <td>NaN</td>\n",
       "      <td>1406.0</td>\n",
       "      <td>&lt;NA&gt;</td>\n",
       "      <td>NaN</td>\n",
       "      <td>&lt;NA&gt;</td>\n",
       "      <td>2016-12-28 00:01:00</td>\n",
       "      <td>319.0</td>\n",
       "      <td>Baldwin Street, St. Luke's</td>\n",
       "    </tr>\n",
       "    <tr>\n",
       "      <th>485431</th>\n",
       "      <td>66468067.0</td>\n",
       "      <td>840.0</td>\n",
       "      <td>4881.0</td>\n",
       "      <td>2017-06-23 07:39:00</td>\n",
       "      <td>211.0</td>\n",
       "      <td>Cadogan Place, Knightsbridge</td>\n",
       "      <td>2017-06-23 07:25:00</td>\n",
       "      <td>45.0</td>\n",
       "      <td>Boston Place, Marylebone</td>\n",
       "    </tr>\n",
       "    <tr>\n",
       "      <th>485432</th>\n",
       "      <td>66468068.0</td>\n",
       "      <td>420.0</td>\n",
       "      <td>5930.0</td>\n",
       "      <td>2017-06-23 07:32:00</td>\n",
       "      <td>14.0</td>\n",
       "      <td>Belgrove Street , King's Cross</td>\n",
       "      <td>2017-06-23 07:25:00</td>\n",
       "      <td>81.0</td>\n",
       "      <td>Great Titchfield Street, Fitzrovia</td>\n",
       "    </tr>\n",
       "    <tr>\n",
       "      <th>485433</th>\n",
       "      <td>66468061.0</td>\n",
       "      <td>300.0</td>\n",
       "      <td>3881.0</td>\n",
       "      <td>2017-06-23 07:30:00</td>\n",
       "      <td>521.0</td>\n",
       "      <td>Driffield Road, Old Ford</td>\n",
       "      <td>2017-06-23 07:25:00</td>\n",
       "      <td>522.0</td>\n",
       "      <td>Clinton Road, Mile End</td>\n",
       "    </tr>\n",
       "    <tr>\n",
       "      <th>485434</th>\n",
       "      <td>66468053.0</td>\n",
       "      <td>660.0</td>\n",
       "      <td>11979.0</td>\n",
       "      <td>2017-06-23 07:36:00</td>\n",
       "      <td>387.0</td>\n",
       "      <td>Fire Brigade Pier, Vauxhall</td>\n",
       "      <td>2017-06-23 07:25:00</td>\n",
       "      <td>354.0</td>\n",
       "      <td>Northumberland Avenue, Strand</td>\n",
       "    </tr>\n",
       "    <tr>\n",
       "      <th>485435</th>\n",
       "      <td>66468055.0</td>\n",
       "      <td>540.0</td>\n",
       "      <td>8747.0</td>\n",
       "      <td>2017-06-23 07:34:00</td>\n",
       "      <td>393.0</td>\n",
       "      <td>Snow Hill, Farringdon</td>\n",
       "      <td>2017-06-23 07:25:00</td>\n",
       "      <td>154.0</td>\n",
       "      <td>Waterloo Station 3, Waterloo</td>\n",
       "    </tr>\n",
       "  </tbody>\n",
       "</table>\n",
       "</div>"
      ],
      "text/plain": [
       "                      rental_id  duration  bike_id end_rental_date_time  \\\n",
       "__null_dask_index__                                                       \n",
       "0                    61343322.0      60.0  12871.0  2016-12-28 00:01:00   \n",
       "1                    61343321.0     300.0   2837.0  2016-12-28 00:05:00   \n",
       "2                    61343323.0     360.0   1269.0  2016-12-28 00:06:00   \n",
       "3                    61343325.0    1140.0   4208.0  2016-12-28 00:20:00   \n",
       "4                    61343324.0       NaN   1406.0                 <NA>   \n",
       "485431               66468067.0     840.0   4881.0  2017-06-23 07:39:00   \n",
       "485432               66468068.0     420.0   5930.0  2017-06-23 07:32:00   \n",
       "485433               66468061.0     300.0   3881.0  2017-06-23 07:30:00   \n",
       "485434               66468053.0     660.0  11979.0  2017-06-23 07:36:00   \n",
       "485435               66468055.0     540.0   8747.0  2017-06-23 07:34:00   \n",
       "\n",
       "                     end_station_id                          end_station_name  \\\n",
       "__null_dask_index__                                                             \n",
       "0                             660.0  West Kensington Station, West Kensington   \n",
       "1                             763.0    Mile End Park Leisure Centre, Mile End   \n",
       "2                              99.0             Old Quebec Street, Marylebone   \n",
       "3                             468.0                        Cantrell Road, Bow   \n",
       "4                               NaN                                      <NA>   \n",
       "485431                        211.0              Cadogan Place, Knightsbridge   \n",
       "485432                         14.0            Belgrove Street , King's Cross   \n",
       "485433                        521.0                  Driffield Road, Old Ford   \n",
       "485434                        387.0               Fire Brigade Pier, Vauxhall   \n",
       "485435                        393.0                     Snow Hill, Farringdon   \n",
       "\n",
       "                    start_rental_date_time  start_station_id  \\\n",
       "__null_dask_index__                                            \n",
       "0                      2016-12-28 00:00:00             633.0   \n",
       "1                      2016-12-28 00:00:00             531.0   \n",
       "2                      2016-12-28 00:00:00             116.0   \n",
       "3                      2016-12-28 00:01:00             443.0   \n",
       "4                      2016-12-28 00:01:00             319.0   \n",
       "485431                 2017-06-23 07:25:00              45.0   \n",
       "485432                 2017-06-23 07:25:00              81.0   \n",
       "485433                 2017-06-23 07:25:00             522.0   \n",
       "485434                 2017-06-23 07:25:00             354.0   \n",
       "485435                 2017-06-23 07:25:00             154.0   \n",
       "\n",
       "                                      start_station_name  \n",
       "__null_dask_index__                                       \n",
       "0                    Vereker Road North, West Kensington  \n",
       "1                            Twig Folly Bridge, Mile End  \n",
       "2                         Little Argyll Street, West End  \n",
       "3                            Philpot Street, Whitechapel  \n",
       "4                             Baldwin Street, St. Luke's  \n",
       "485431                          Boston Place, Marylebone  \n",
       "485432                Great Titchfield Street, Fitzrovia  \n",
       "485433                            Clinton Road, Mile End  \n",
       "485434                     Northumberland Avenue, Strand  \n",
       "485435                      Waterloo Station 3, Waterloo  "
      ]
     },
     "execution_count": 51,
     "metadata": {},
     "output_type": "execute_result"
    }
   ],
   "source": [
    "pd.concat([df.head(),df.tail()])"
   ]
  },
  {
   "cell_type": "code",
   "execution_count": 52,
   "id": "b0e9abef",
   "metadata": {},
   "outputs": [
    {
     "name": "stdout",
     "output_type": "stream",
     "text": [
      "Wall time: 1min 18s\n"
     ]
    }
   ],
   "source": [
    "%%time\n",
    "# traditional pandas\n",
    "# group by\n",
    "df = None\n",
    "df = pd.read_parquet(parquetfile)\n",
    "grouped_df = df.groupby(['bike_id'], as_index=False).agg({'duration':'sum','rental_id':'count'})"
   ]
  },
  {
   "cell_type": "code",
   "execution_count": 53,
   "id": "4bda8a17",
   "metadata": {},
   "outputs": [
    {
     "data": {
      "text/plain": [
       "(16019, 3)"
      ]
     },
     "execution_count": 53,
     "metadata": {},
     "output_type": "execute_result"
    }
   ],
   "source": [
    "grouped_df.shape"
   ]
  },
  {
   "cell_type": "code",
   "execution_count": 54,
   "id": "4fb5a033",
   "metadata": {
    "scrolled": true
   },
   "outputs": [
    {
     "data": {
      "text/html": [
       "<div>\n",
       "<style scoped>\n",
       "    .dataframe tbody tr th:only-of-type {\n",
       "        vertical-align: middle;\n",
       "    }\n",
       "\n",
       "    .dataframe tbody tr th {\n",
       "        vertical-align: top;\n",
       "    }\n",
       "\n",
       "    .dataframe thead th {\n",
       "        text-align: right;\n",
       "    }\n",
       "</style>\n",
       "<table border=\"1\" class=\"dataframe\">\n",
       "  <thead>\n",
       "    <tr style=\"text-align: right;\">\n",
       "      <th></th>\n",
       "      <th>bike_id</th>\n",
       "      <th>duration</th>\n",
       "      <th>rental_id</th>\n",
       "    </tr>\n",
       "  </thead>\n",
       "  <tbody>\n",
       "    <tr>\n",
       "      <th>0</th>\n",
       "      <td>1.0</td>\n",
       "      <td>3889465.0</td>\n",
       "      <td>2653</td>\n",
       "    </tr>\n",
       "    <tr>\n",
       "      <th>1</th>\n",
       "      <td>2.0</td>\n",
       "      <td>2056260.0</td>\n",
       "      <td>1569</td>\n",
       "    </tr>\n",
       "    <tr>\n",
       "      <th>2</th>\n",
       "      <td>4.0</td>\n",
       "      <td>4086285.0</td>\n",
       "      <td>2905</td>\n",
       "    </tr>\n",
       "    <tr>\n",
       "      <th>3</th>\n",
       "      <td>5.0</td>\n",
       "      <td>3847900.0</td>\n",
       "      <td>2665</td>\n",
       "    </tr>\n",
       "    <tr>\n",
       "      <th>4</th>\n",
       "      <td>6.0</td>\n",
       "      <td>3776526.0</td>\n",
       "      <td>3092</td>\n",
       "    </tr>\n",
       "    <tr>\n",
       "      <th>16014</th>\n",
       "      <td>18499.0</td>\n",
       "      <td>6360.0</td>\n",
       "      <td>7</td>\n",
       "    </tr>\n",
       "    <tr>\n",
       "      <th>16015</th>\n",
       "      <td>18502.0</td>\n",
       "      <td>6960.0</td>\n",
       "      <td>8</td>\n",
       "    </tr>\n",
       "    <tr>\n",
       "      <th>16016</th>\n",
       "      <td>18505.0</td>\n",
       "      <td>4560.0</td>\n",
       "      <td>4</td>\n",
       "    </tr>\n",
       "    <tr>\n",
       "      <th>16017</th>\n",
       "      <td>18510.0</td>\n",
       "      <td>19440.0</td>\n",
       "      <td>14</td>\n",
       "    </tr>\n",
       "    <tr>\n",
       "      <th>16018</th>\n",
       "      <td>18512.0</td>\n",
       "      <td>8160.0</td>\n",
       "      <td>9</td>\n",
       "    </tr>\n",
       "  </tbody>\n",
       "</table>\n",
       "</div>"
      ],
      "text/plain": [
       "       bike_id   duration  rental_id\n",
       "0          1.0  3889465.0       2653\n",
       "1          2.0  2056260.0       1569\n",
       "2          4.0  4086285.0       2905\n",
       "3          5.0  3847900.0       2665\n",
       "4          6.0  3776526.0       3092\n",
       "16014  18499.0     6360.0          7\n",
       "16015  18502.0     6960.0          8\n",
       "16016  18505.0     4560.0          4\n",
       "16017  18510.0    19440.0         14\n",
       "16018  18512.0     8160.0          9"
      ]
     },
     "execution_count": 54,
     "metadata": {},
     "output_type": "execute_result"
    }
   ],
   "source": [
    "pd.concat([grouped_df.head(),grouped_df.tail()])"
   ]
  },
  {
   "cell_type": "markdown",
   "id": "c3cb478c",
   "metadata": {},
   "source": [
    "## 7. The `dask` dataframe with `parquet` file"
   ]
  },
  {
   "cell_type": "code",
   "execution_count": 55,
   "id": "2eb95738",
   "metadata": {},
   "outputs": [
    {
     "name": "stdout",
     "output_type": "stream",
     "text": [
      "Wall time: 18.6 s\n"
     ]
    }
   ],
   "source": [
    "%%time\n",
    "# dask dataframe\n",
    "# read file\n",
    "df = None\n",
    "df = dd.read_parquet(parquetfile)\n",
    "df = df.compute() # time-consuming"
   ]
  },
  {
   "cell_type": "code",
   "execution_count": 56,
   "id": "06012bb1",
   "metadata": {},
   "outputs": [
    {
     "data": {
      "text/plain": [
       "(38215560, 9)"
      ]
     },
     "execution_count": 56,
     "metadata": {},
     "output_type": "execute_result"
    }
   ],
   "source": [
    "df.shape"
   ]
  },
  {
   "cell_type": "code",
   "execution_count": 57,
   "id": "3aa64ff4",
   "metadata": {},
   "outputs": [
    {
     "data": {
      "text/html": [
       "<div>\n",
       "<style scoped>\n",
       "    .dataframe tbody tr th:only-of-type {\n",
       "        vertical-align: middle;\n",
       "    }\n",
       "\n",
       "    .dataframe tbody tr th {\n",
       "        vertical-align: top;\n",
       "    }\n",
       "\n",
       "    .dataframe thead th {\n",
       "        text-align: right;\n",
       "    }\n",
       "</style>\n",
       "<table border=\"1\" class=\"dataframe\">\n",
       "  <thead>\n",
       "    <tr style=\"text-align: right;\">\n",
       "      <th></th>\n",
       "      <th>rental_id</th>\n",
       "      <th>duration</th>\n",
       "      <th>bike_id</th>\n",
       "      <th>end_rental_date_time</th>\n",
       "      <th>end_station_id</th>\n",
       "      <th>end_station_name</th>\n",
       "      <th>start_rental_date_time</th>\n",
       "      <th>start_station_id</th>\n",
       "      <th>start_station_name</th>\n",
       "    </tr>\n",
       "  </thead>\n",
       "  <tbody>\n",
       "    <tr>\n",
       "      <th>0</th>\n",
       "      <td>61343322.0</td>\n",
       "      <td>60.0</td>\n",
       "      <td>12871.0</td>\n",
       "      <td>2016-12-28 00:01:00</td>\n",
       "      <td>660.0</td>\n",
       "      <td>West Kensington Station, West Kensington</td>\n",
       "      <td>2016-12-28 00:00:00</td>\n",
       "      <td>633.0</td>\n",
       "      <td>Vereker Road North, West Kensington</td>\n",
       "    </tr>\n",
       "    <tr>\n",
       "      <th>1</th>\n",
       "      <td>61343321.0</td>\n",
       "      <td>300.0</td>\n",
       "      <td>2837.0</td>\n",
       "      <td>2016-12-28 00:05:00</td>\n",
       "      <td>763.0</td>\n",
       "      <td>Mile End Park Leisure Centre, Mile End</td>\n",
       "      <td>2016-12-28 00:00:00</td>\n",
       "      <td>531.0</td>\n",
       "      <td>Twig Folly Bridge, Mile End</td>\n",
       "    </tr>\n",
       "    <tr>\n",
       "      <th>2</th>\n",
       "      <td>61343323.0</td>\n",
       "      <td>360.0</td>\n",
       "      <td>1269.0</td>\n",
       "      <td>2016-12-28 00:06:00</td>\n",
       "      <td>99.0</td>\n",
       "      <td>Old Quebec Street, Marylebone</td>\n",
       "      <td>2016-12-28 00:00:00</td>\n",
       "      <td>116.0</td>\n",
       "      <td>Little Argyll Street, West End</td>\n",
       "    </tr>\n",
       "    <tr>\n",
       "      <th>3</th>\n",
       "      <td>61343325.0</td>\n",
       "      <td>1140.0</td>\n",
       "      <td>4208.0</td>\n",
       "      <td>2016-12-28 00:20:00</td>\n",
       "      <td>468.0</td>\n",
       "      <td>Cantrell Road, Bow</td>\n",
       "      <td>2016-12-28 00:01:00</td>\n",
       "      <td>443.0</td>\n",
       "      <td>Philpot Street, Whitechapel</td>\n",
       "    </tr>\n",
       "    <tr>\n",
       "      <th>4</th>\n",
       "      <td>61343324.0</td>\n",
       "      <td>NaN</td>\n",
       "      <td>1406.0</td>\n",
       "      <td>&lt;NA&gt;</td>\n",
       "      <td>NaN</td>\n",
       "      <td>&lt;NA&gt;</td>\n",
       "      <td>2016-12-28 00:01:00</td>\n",
       "      <td>319.0</td>\n",
       "      <td>Baldwin Street, St. Luke's</td>\n",
       "    </tr>\n",
       "    <tr>\n",
       "      <th>478034</th>\n",
       "      <td>101367955.0</td>\n",
       "      <td>240.0</td>\n",
       "      <td>15436.0</td>\n",
       "      <td>2020-09-01 23:53:00</td>\n",
       "      <td>652.0</td>\n",
       "      <td>Evesham Street, Avondale</td>\n",
       "      <td>2020-09-01 23:49:00</td>\n",
       "      <td>606.0</td>\n",
       "      <td>Addison Road, Holland Park</td>\n",
       "    </tr>\n",
       "    <tr>\n",
       "      <th>478035</th>\n",
       "      <td>101367958.0</td>\n",
       "      <td>60.0</td>\n",
       "      <td>10896.0</td>\n",
       "      <td>2020-09-01 23:51:00</td>\n",
       "      <td>488.0</td>\n",
       "      <td>Reardon Street, Wapping</td>\n",
       "      <td>2020-09-01 23:50:00</td>\n",
       "      <td>458.0</td>\n",
       "      <td>Wapping Lane, Wapping</td>\n",
       "    </tr>\n",
       "    <tr>\n",
       "      <th>478036</th>\n",
       "      <td>101367970.0</td>\n",
       "      <td>480.0</td>\n",
       "      <td>18116.0</td>\n",
       "      <td>2020-09-01 23:59:00</td>\n",
       "      <td>442.0</td>\n",
       "      <td>Walmer Road, Avondale</td>\n",
       "      <td>2020-09-01 23:51:00</td>\n",
       "      <td>442.0</td>\n",
       "      <td>Walmer Road, Avondale</td>\n",
       "    </tr>\n",
       "    <tr>\n",
       "      <th>478037</th>\n",
       "      <td>101367999.0</td>\n",
       "      <td>300.0</td>\n",
       "      <td>16371.0</td>\n",
       "      <td>2020-09-01 23:59:00</td>\n",
       "      <td>511.0</td>\n",
       "      <td>Sutton Street, Shadwell</td>\n",
       "      <td>2020-09-01 23:54:00</td>\n",
       "      <td>202.0</td>\n",
       "      <td>Leman Street, Aldgate</td>\n",
       "    </tr>\n",
       "    <tr>\n",
       "      <th>478038</th>\n",
       "      <td>101367995.0</td>\n",
       "      <td>240.0</td>\n",
       "      <td>8408.0</td>\n",
       "      <td>2020-09-01 23:58:00</td>\n",
       "      <td>56.0</td>\n",
       "      <td>Paddington Street, Marylebone</td>\n",
       "      <td>2020-09-01 23:54:00</td>\n",
       "      <td>367.0</td>\n",
       "      <td>Harrowby Street, Marylebone</td>\n",
       "    </tr>\n",
       "  </tbody>\n",
       "</table>\n",
       "</div>"
      ],
      "text/plain": [
       "          rental_id  duration  bike_id end_rental_date_time  end_station_id  \\\n",
       "0        61343322.0      60.0  12871.0  2016-12-28 00:01:00           660.0   \n",
       "1        61343321.0     300.0   2837.0  2016-12-28 00:05:00           763.0   \n",
       "2        61343323.0     360.0   1269.0  2016-12-28 00:06:00            99.0   \n",
       "3        61343325.0    1140.0   4208.0  2016-12-28 00:20:00           468.0   \n",
       "4        61343324.0       NaN   1406.0                 <NA>             NaN   \n",
       "478034  101367955.0     240.0  15436.0  2020-09-01 23:53:00           652.0   \n",
       "478035  101367958.0      60.0  10896.0  2020-09-01 23:51:00           488.0   \n",
       "478036  101367970.0     480.0  18116.0  2020-09-01 23:59:00           442.0   \n",
       "478037  101367999.0     300.0  16371.0  2020-09-01 23:59:00           511.0   \n",
       "478038  101367995.0     240.0   8408.0  2020-09-01 23:58:00            56.0   \n",
       "\n",
       "                                end_station_name start_rental_date_time  \\\n",
       "0       West Kensington Station, West Kensington    2016-12-28 00:00:00   \n",
       "1         Mile End Park Leisure Centre, Mile End    2016-12-28 00:00:00   \n",
       "2                  Old Quebec Street, Marylebone    2016-12-28 00:00:00   \n",
       "3                             Cantrell Road, Bow    2016-12-28 00:01:00   \n",
       "4                                           <NA>    2016-12-28 00:01:00   \n",
       "478034                  Evesham Street, Avondale    2020-09-01 23:49:00   \n",
       "478035                   Reardon Street, Wapping    2020-09-01 23:50:00   \n",
       "478036                     Walmer Road, Avondale    2020-09-01 23:51:00   \n",
       "478037                   Sutton Street, Shadwell    2020-09-01 23:54:00   \n",
       "478038             Paddington Street, Marylebone    2020-09-01 23:54:00   \n",
       "\n",
       "        start_station_id                   start_station_name  \n",
       "0                  633.0  Vereker Road North, West Kensington  \n",
       "1                  531.0          Twig Folly Bridge, Mile End  \n",
       "2                  116.0       Little Argyll Street, West End  \n",
       "3                  443.0          Philpot Street, Whitechapel  \n",
       "4                  319.0           Baldwin Street, St. Luke's  \n",
       "478034             606.0           Addison Road, Holland Park  \n",
       "478035             458.0                Wapping Lane, Wapping  \n",
       "478036             442.0                Walmer Road, Avondale  \n",
       "478037             202.0                Leman Street, Aldgate  \n",
       "478038             367.0          Harrowby Street, Marylebone  "
      ]
     },
     "execution_count": 57,
     "metadata": {},
     "output_type": "execute_result"
    }
   ],
   "source": [
    "pd.concat([df.head(),df.tail()])"
   ]
  },
  {
   "cell_type": "code",
   "execution_count": 58,
   "id": "998c2ca3",
   "metadata": {},
   "outputs": [
    {
     "name": "stdout",
     "output_type": "stream",
     "text": [
      "Wall time: 2.54 s\n"
     ]
    }
   ],
   "source": [
    "%%time\n",
    "# dask dataframe\n",
    "# group by\n",
    "df = None\n",
    "df = dd.read_parquet(parquetfile)\n",
    "grouped_df = df.groupby(['bike_id']).agg({'duration':'sum','rental_id':'count'})\n",
    "grouped_df = grouped_df.compute() # time-consuming\n",
    "grouped_df = grouped_df.sort_index().reset_index()"
   ]
  },
  {
   "cell_type": "code",
   "execution_count": 59,
   "id": "0c9db333",
   "metadata": {},
   "outputs": [
    {
     "data": {
      "text/plain": [
       "(16019, 3)"
      ]
     },
     "execution_count": 59,
     "metadata": {},
     "output_type": "execute_result"
    }
   ],
   "source": [
    "grouped_df.shape"
   ]
  },
  {
   "cell_type": "code",
   "execution_count": 60,
   "id": "ddada67a",
   "metadata": {},
   "outputs": [
    {
     "data": {
      "text/html": [
       "<div>\n",
       "<style scoped>\n",
       "    .dataframe tbody tr th:only-of-type {\n",
       "        vertical-align: middle;\n",
       "    }\n",
       "\n",
       "    .dataframe tbody tr th {\n",
       "        vertical-align: top;\n",
       "    }\n",
       "\n",
       "    .dataframe thead th {\n",
       "        text-align: right;\n",
       "    }\n",
       "</style>\n",
       "<table border=\"1\" class=\"dataframe\">\n",
       "  <thead>\n",
       "    <tr style=\"text-align: right;\">\n",
       "      <th></th>\n",
       "      <th>bike_id</th>\n",
       "      <th>duration</th>\n",
       "      <th>rental_id</th>\n",
       "    </tr>\n",
       "  </thead>\n",
       "  <tbody>\n",
       "    <tr>\n",
       "      <th>0</th>\n",
       "      <td>1.0</td>\n",
       "      <td>3889465.0</td>\n",
       "      <td>2653</td>\n",
       "    </tr>\n",
       "    <tr>\n",
       "      <th>1</th>\n",
       "      <td>2.0</td>\n",
       "      <td>2056260.0</td>\n",
       "      <td>1569</td>\n",
       "    </tr>\n",
       "    <tr>\n",
       "      <th>2</th>\n",
       "      <td>4.0</td>\n",
       "      <td>4086285.0</td>\n",
       "      <td>2905</td>\n",
       "    </tr>\n",
       "    <tr>\n",
       "      <th>3</th>\n",
       "      <td>5.0</td>\n",
       "      <td>3847900.0</td>\n",
       "      <td>2665</td>\n",
       "    </tr>\n",
       "    <tr>\n",
       "      <th>4</th>\n",
       "      <td>6.0</td>\n",
       "      <td>3776526.0</td>\n",
       "      <td>3092</td>\n",
       "    </tr>\n",
       "    <tr>\n",
       "      <th>16014</th>\n",
       "      <td>18499.0</td>\n",
       "      <td>6360.0</td>\n",
       "      <td>7</td>\n",
       "    </tr>\n",
       "    <tr>\n",
       "      <th>16015</th>\n",
       "      <td>18502.0</td>\n",
       "      <td>6960.0</td>\n",
       "      <td>8</td>\n",
       "    </tr>\n",
       "    <tr>\n",
       "      <th>16016</th>\n",
       "      <td>18505.0</td>\n",
       "      <td>4560.0</td>\n",
       "      <td>4</td>\n",
       "    </tr>\n",
       "    <tr>\n",
       "      <th>16017</th>\n",
       "      <td>18510.0</td>\n",
       "      <td>19440.0</td>\n",
       "      <td>14</td>\n",
       "    </tr>\n",
       "    <tr>\n",
       "      <th>16018</th>\n",
       "      <td>18512.0</td>\n",
       "      <td>8160.0</td>\n",
       "      <td>9</td>\n",
       "    </tr>\n",
       "  </tbody>\n",
       "</table>\n",
       "</div>"
      ],
      "text/plain": [
       "       bike_id   duration  rental_id\n",
       "0          1.0  3889465.0       2653\n",
       "1          2.0  2056260.0       1569\n",
       "2          4.0  4086285.0       2905\n",
       "3          5.0  3847900.0       2665\n",
       "4          6.0  3776526.0       3092\n",
       "16014  18499.0     6360.0          7\n",
       "16015  18502.0     6960.0          8\n",
       "16016  18505.0     4560.0          4\n",
       "16017  18510.0    19440.0         14\n",
       "16018  18512.0     8160.0          9"
      ]
     },
     "execution_count": 60,
     "metadata": {},
     "output_type": "execute_result"
    }
   ],
   "source": [
    "pd.concat([grouped_df.head(),grouped_df.tail()])"
   ]
  },
  {
   "cell_type": "markdown",
   "id": "fdeff336",
   "metadata": {},
   "source": [
    "## 8. The `pandas` on `ray` (`modin`) with `parquet` file"
   ]
  },
  {
   "cell_type": "code",
   "execution_count": 9,
   "id": "5b4ccc52",
   "metadata": {
    "scrolled": true
   },
   "outputs": [
    {
     "name": "stderr",
     "output_type": "stream",
     "text": [
      "2023-09-15 13:59:58,206\tINFO worker.py:1529 -- Started a local Ray instance. View the dashboard at \u001b[1m\u001b[32m127.0.0.1:8265 \u001b[39m\u001b[22m\n"
     ]
    },
    {
     "data": {
      "text/html": [
       "<div>\n",
       "    <div style=\"margin-left: 50px;display: flex;flex-direction: row;align-items: center\">\n",
       "        <h3 style=\"color: var(--jp-ui-font-color0)\">Ray</h3>\n",
       "        <svg version=\"1.1\" id=\"ray\" width=\"3em\" viewBox=\"0 0 144.5 144.6\" style=\"margin-left: 3em;margin-right: 3em\">\n",
       "            <g id=\"layer-1\">\n",
       "                <path fill=\"#00a2e9\" class=\"st0\" d=\"M97.3,77.2c-3.8-1.1-6.2,0.9-8.3,5.1c-3.5,6.8-9.9,9.9-17.4,9.6S58,88.1,54.8,81.2c-1.4-3-3-4-6.3-4.1\n",
       "                    c-5.6-0.1-9.9,0.1-13.1,6.4c-3.8,7.6-13.6,10.2-21.8,7.6C5.2,88.4-0.4,80.5,0,71.7c0.1-8.4,5.7-15.8,13.8-18.2\n",
       "                    c8.4-2.6,17.5,0.7,22.3,8c1.3,1.9,1.3,5.2,3.6,5.6c3.9,0.6,8,0.2,12,0.2c1.8,0,1.9-1.6,2.4-2.8c3.5-7.8,9.7-11.8,18-11.9\n",
       "                    c8.2-0.1,14.4,3.9,17.8,11.4c1.3,2.8,2.9,3.6,5.7,3.3c1-0.1,2,0.1,3,0c2.8-0.5,6.4,1.7,8.1-2.7s-2.3-5.5-4.1-7.5\n",
       "                    c-5.1-5.7-10.9-10.8-16.1-16.3C84,38,81.9,37.1,78,38.3C66.7,42,56.2,35.7,53,24.1C50.3,14,57.3,2.8,67.7,0.5\n",
       "                    C78.4-2,89,4.7,91.5,15.3c0.1,0.3,0.1,0.5,0.2,0.8c0.7,3.4,0.7,6.9-0.8,9.8c-1.7,3.2-0.8,5,1.5,7.2c6.7,6.5,13.3,13,19.8,19.7\n",
       "                    c1.8,1.8,3,2.1,5.5,1.2c9.1-3.4,17.9-0.6,23.4,7c4.8,6.9,4.6,16.1-0.4,22.9c-5.4,7.2-14.2,9.9-23.1,6.5c-2.3-0.9-3.5-0.6-5.1,1.1\n",
       "                    c-6.7,6.9-13.6,13.7-20.5,20.4c-1.8,1.8-2.5,3.2-1.4,5.9c3.5,8.7,0.3,18.6-7.7,23.6c-7.9,5-18.2,3.8-24.8-2.9\n",
       "                    c-6.4-6.4-7.4-16.2-2.5-24.3c4.9-7.8,14.5-11,23.1-7.8c3,1.1,4.7,0.5,6.9-1.7C91.7,98.4,98,92.3,104.2,86c1.6-1.6,4.1-2.7,2.6-6.2\n",
       "                    c-1.4-3.3-3.8-2.5-6.2-2.6C99.8,77.2,98.9,77.2,97.3,77.2z M72.1,29.7c5.5,0.1,9.9-4.3,10-9.8c0-0.1,0-0.2,0-0.3\n",
       "                    C81.8,14,77,9.8,71.5,10.2c-5,0.3-9,4.2-9.3,9.2c-0.2,5.5,4,10.1,9.5,10.3C71.8,29.7,72,29.7,72.1,29.7z M72.3,62.3\n",
       "                    c-5.4-0.1-9.9,4.2-10.1,9.7c0,0.2,0,0.3,0,0.5c0.2,5.4,4.5,9.7,9.9,10c5.1,0.1,9.9-4.7,10.1-9.8c0.2-5.5-4-10-9.5-10.3\n",
       "                    C72.6,62.3,72.4,62.3,72.3,62.3z M115,72.5c0.1,5.4,4.5,9.7,9.8,9.9c5.6-0.2,10-4.8,10-10.4c-0.2-5.4-4.6-9.7-10-9.7\n",
       "                    c-5.3-0.1-9.8,4.2-9.9,9.5C115,72.1,115,72.3,115,72.5z M19.5,62.3c-5.4,0.1-9.8,4.4-10,9.8c-0.1,5.1,5.2,10.4,10.2,10.3\n",
       "                    c5.6-0.2,10-4.9,9.8-10.5c-0.1-5.4-4.5-9.7-9.9-9.6C19.6,62.3,19.5,62.3,19.5,62.3z M71.8,134.6c5.9,0.2,10.3-3.9,10.4-9.6\n",
       "                    c0.5-5.5-3.6-10.4-9.1-10.8c-5.5-0.5-10.4,3.6-10.8,9.1c0,0.5,0,0.9,0,1.4c-0.2,5.3,4,9.8,9.3,10\n",
       "                    C71.6,134.6,71.7,134.6,71.8,134.6z\"/>\n",
       "            </g>\n",
       "        </svg>\n",
       "        <table>\n",
       "            <tr>\n",
       "                <td style=\"text-align: left\"><b>Python version:</b></td>\n",
       "                <td style=\"text-align: left\"><b>3.9.12</b></td>\n",
       "            </tr>\n",
       "            <tr>\n",
       "                <td style=\"text-align: left\"><b>Ray version:</b></td>\n",
       "                <td style=\"text-align: left\"><b> 2.2.0</b></td>\n",
       "            </tr>\n",
       "            <tr>\n",
       "    <td style=\"text-align: left\"><b>Dashboard:</b></td>\n",
       "    <td style=\"text-align: left\"><b><a href=\"http://127.0.0.1:8265\" target=\"_blank\">http://127.0.0.1:8265</a></b></td>\n",
       "</tr>\n",
       "\n",
       "        </table>\n",
       "    </div>\n",
       "</div>\n"
      ],
      "text/plain": [
       "RayContext(dashboard_url='127.0.0.1:8265', python_version='3.9.12', ray_version='2.2.0', ray_commit='b6af0887ee5f2e460202133791ad941a41f15beb', address_info={'node_ip_address': '127.0.0.1', 'raylet_ip_address': '127.0.0.1', 'redis_address': None, 'object_store_address': 'tcp://127.0.0.1:60497', 'raylet_socket_name': 'tcp://127.0.0.1:59536', 'webui_url': '127.0.0.1:8265', 'session_dir': 'C:\\\\Users\\\\ranaf\\\\AppData\\\\Local\\\\Temp\\\\ray\\\\session_2023-09-15_13-59-54_446920_20144', 'metrics_export_port': 54090, 'gcs_address': '127.0.0.1:57823', 'address': '127.0.0.1:57823', 'dashboard_agent_listen_port': 52365, 'node_id': 'd0e6a000c42747dae4613cd1db63d24275e6c8e07c3a748d6a6ffc1f'})"
      ]
     },
     "execution_count": 9,
     "metadata": {},
     "output_type": "execute_result"
    }
   ],
   "source": [
    "ray.shutdown()\n",
    "ray.init(num_cpus=num_cpus, \n",
    "         ignore_reinit_error=True)"
   ]
  },
  {
   "cell_type": "code",
   "execution_count": 10,
   "id": "abaeccd1",
   "metadata": {},
   "outputs": [],
   "source": [
    "os.environ['__MODIN_AUTOIMPORT_PANDAS__'] = '1'"
   ]
  },
  {
   "cell_type": "code",
   "execution_count": 11,
   "id": "8f76b1b4",
   "metadata": {},
   "outputs": [],
   "source": [
    "os.environ['MODIN_ENGINE'] = 'ray'"
   ]
  },
  {
   "cell_type": "code",
   "execution_count": 12,
   "id": "e11b9904",
   "metadata": {},
   "outputs": [
    {
     "name": "stdout",
     "output_type": "stream",
     "text": [
      "Wall time: 1min 6s\n"
     ]
    }
   ],
   "source": [
    "%%time\n",
    "# modin pandas\n",
    "# read file\n",
    "df = None\n",
    "df = md.read_parquet(parquetfile) # time-consuming"
   ]
  },
  {
   "cell_type": "code",
   "execution_count": 13,
   "id": "b9b75c93",
   "metadata": {},
   "outputs": [
    {
     "data": {
      "text/plain": [
       "(38215560, 9)"
      ]
     },
     "execution_count": 13,
     "metadata": {},
     "output_type": "execute_result"
    }
   ],
   "source": [
    "df.shape"
   ]
  },
  {
   "cell_type": "code",
   "execution_count": 14,
   "id": "c40273c5",
   "metadata": {
    "scrolled": false
   },
   "outputs": [
    {
     "data": {
      "text/html": [
       "<div>\n",
       "<style scoped>\n",
       "    .dataframe tbody tr th:only-of-type {\n",
       "        vertical-align: middle;\n",
       "    }\n",
       "\n",
       "    .dataframe tbody tr th {\n",
       "        vertical-align: top;\n",
       "    }\n",
       "\n",
       "    .dataframe thead th {\n",
       "        text-align: right;\n",
       "    }\n",
       "</style>\n",
       "<table border=\"1\" class=\"dataframe\">\n",
       "  <thead>\n",
       "    <tr style=\"text-align: right;\">\n",
       "      <th></th>\n",
       "      <th>rental_id</th>\n",
       "      <th>duration</th>\n",
       "      <th>bike_id</th>\n",
       "      <th>end_rental_date_time</th>\n",
       "      <th>end_station_id</th>\n",
       "      <th>end_station_name</th>\n",
       "      <th>start_rental_date_time</th>\n",
       "      <th>start_station_id</th>\n",
       "      <th>start_station_name</th>\n",
       "    </tr>\n",
       "    <tr>\n",
       "      <th>__null_dask_index__</th>\n",
       "      <th></th>\n",
       "      <th></th>\n",
       "      <th></th>\n",
       "      <th></th>\n",
       "      <th></th>\n",
       "      <th></th>\n",
       "      <th></th>\n",
       "      <th></th>\n",
       "      <th></th>\n",
       "    </tr>\n",
       "  </thead>\n",
       "  <tbody>\n",
       "    <tr>\n",
       "      <th>0</th>\n",
       "      <td>61343322.0</td>\n",
       "      <td>60.0</td>\n",
       "      <td>12871.0</td>\n",
       "      <td>2016-12-28 00:01:00</td>\n",
       "      <td>660.0</td>\n",
       "      <td>West Kensington Station, West Kensington</td>\n",
       "      <td>2016-12-28 00:00:00</td>\n",
       "      <td>633.0</td>\n",
       "      <td>Vereker Road North, West Kensington</td>\n",
       "    </tr>\n",
       "    <tr>\n",
       "      <th>1</th>\n",
       "      <td>61343321.0</td>\n",
       "      <td>300.0</td>\n",
       "      <td>2837.0</td>\n",
       "      <td>2016-12-28 00:05:00</td>\n",
       "      <td>763.0</td>\n",
       "      <td>Mile End Park Leisure Centre, Mile End</td>\n",
       "      <td>2016-12-28 00:00:00</td>\n",
       "      <td>531.0</td>\n",
       "      <td>Twig Folly Bridge, Mile End</td>\n",
       "    </tr>\n",
       "    <tr>\n",
       "      <th>2</th>\n",
       "      <td>61343323.0</td>\n",
       "      <td>360.0</td>\n",
       "      <td>1269.0</td>\n",
       "      <td>2016-12-28 00:06:00</td>\n",
       "      <td>99.0</td>\n",
       "      <td>Old Quebec Street, Marylebone</td>\n",
       "      <td>2016-12-28 00:00:00</td>\n",
       "      <td>116.0</td>\n",
       "      <td>Little Argyll Street, West End</td>\n",
       "    </tr>\n",
       "    <tr>\n",
       "      <th>3</th>\n",
       "      <td>61343325.0</td>\n",
       "      <td>1140.0</td>\n",
       "      <td>4208.0</td>\n",
       "      <td>2016-12-28 00:20:00</td>\n",
       "      <td>468.0</td>\n",
       "      <td>Cantrell Road, Bow</td>\n",
       "      <td>2016-12-28 00:01:00</td>\n",
       "      <td>443.0</td>\n",
       "      <td>Philpot Street, Whitechapel</td>\n",
       "    </tr>\n",
       "    <tr>\n",
       "      <th>4</th>\n",
       "      <td>61343324.0</td>\n",
       "      <td>NaN</td>\n",
       "      <td>1406.0</td>\n",
       "      <td>&lt;NA&gt;</td>\n",
       "      <td>NaN</td>\n",
       "      <td>&lt;NA&gt;</td>\n",
       "      <td>2016-12-28 00:01:00</td>\n",
       "      <td>319.0</td>\n",
       "      <td>Baldwin Street, St. Luke's</td>\n",
       "    </tr>\n",
       "    <tr>\n",
       "      <th>485431</th>\n",
       "      <td>66468067.0</td>\n",
       "      <td>840.0</td>\n",
       "      <td>4881.0</td>\n",
       "      <td>2017-06-23 07:39:00</td>\n",
       "      <td>211.0</td>\n",
       "      <td>Cadogan Place, Knightsbridge</td>\n",
       "      <td>2017-06-23 07:25:00</td>\n",
       "      <td>45.0</td>\n",
       "      <td>Boston Place, Marylebone</td>\n",
       "    </tr>\n",
       "    <tr>\n",
       "      <th>485432</th>\n",
       "      <td>66468068.0</td>\n",
       "      <td>420.0</td>\n",
       "      <td>5930.0</td>\n",
       "      <td>2017-06-23 07:32:00</td>\n",
       "      <td>14.0</td>\n",
       "      <td>Belgrove Street , King's Cross</td>\n",
       "      <td>2017-06-23 07:25:00</td>\n",
       "      <td>81.0</td>\n",
       "      <td>Great Titchfield Street, Fitzrovia</td>\n",
       "    </tr>\n",
       "    <tr>\n",
       "      <th>485433</th>\n",
       "      <td>66468061.0</td>\n",
       "      <td>300.0</td>\n",
       "      <td>3881.0</td>\n",
       "      <td>2017-06-23 07:30:00</td>\n",
       "      <td>521.0</td>\n",
       "      <td>Driffield Road, Old Ford</td>\n",
       "      <td>2017-06-23 07:25:00</td>\n",
       "      <td>522.0</td>\n",
       "      <td>Clinton Road, Mile End</td>\n",
       "    </tr>\n",
       "    <tr>\n",
       "      <th>485434</th>\n",
       "      <td>66468053.0</td>\n",
       "      <td>660.0</td>\n",
       "      <td>11979.0</td>\n",
       "      <td>2017-06-23 07:36:00</td>\n",
       "      <td>387.0</td>\n",
       "      <td>Fire Brigade Pier, Vauxhall</td>\n",
       "      <td>2017-06-23 07:25:00</td>\n",
       "      <td>354.0</td>\n",
       "      <td>Northumberland Avenue, Strand</td>\n",
       "    </tr>\n",
       "    <tr>\n",
       "      <th>485435</th>\n",
       "      <td>66468055.0</td>\n",
       "      <td>540.0</td>\n",
       "      <td>8747.0</td>\n",
       "      <td>2017-06-23 07:34:00</td>\n",
       "      <td>393.0</td>\n",
       "      <td>Snow Hill, Farringdon</td>\n",
       "      <td>2017-06-23 07:25:00</td>\n",
       "      <td>154.0</td>\n",
       "      <td>Waterloo Station 3, Waterloo</td>\n",
       "    </tr>\n",
       "  </tbody>\n",
       "</table>\n",
       "</div>"
      ],
      "text/plain": [
       "                      rental_id  duration  bike_id end_rental_date_time  \\\n",
       "__null_dask_index__                                                       \n",
       "0                    61343322.0      60.0  12871.0  2016-12-28 00:01:00   \n",
       "1                    61343321.0     300.0   2837.0  2016-12-28 00:05:00   \n",
       "2                    61343323.0     360.0   1269.0  2016-12-28 00:06:00   \n",
       "3                    61343325.0    1140.0   4208.0  2016-12-28 00:20:00   \n",
       "4                    61343324.0       NaN   1406.0                 <NA>   \n",
       "485431               66468067.0     840.0   4881.0  2017-06-23 07:39:00   \n",
       "485432               66468068.0     420.0   5930.0  2017-06-23 07:32:00   \n",
       "485433               66468061.0     300.0   3881.0  2017-06-23 07:30:00   \n",
       "485434               66468053.0     660.0  11979.0  2017-06-23 07:36:00   \n",
       "485435               66468055.0     540.0   8747.0  2017-06-23 07:34:00   \n",
       "\n",
       "                     end_station_id                          end_station_name  \\\n",
       "__null_dask_index__                                                             \n",
       "0                             660.0  West Kensington Station, West Kensington   \n",
       "1                             763.0    Mile End Park Leisure Centre, Mile End   \n",
       "2                              99.0             Old Quebec Street, Marylebone   \n",
       "3                             468.0                        Cantrell Road, Bow   \n",
       "4                               NaN                                      <NA>   \n",
       "485431                        211.0              Cadogan Place, Knightsbridge   \n",
       "485432                         14.0            Belgrove Street , King's Cross   \n",
       "485433                        521.0                  Driffield Road, Old Ford   \n",
       "485434                        387.0               Fire Brigade Pier, Vauxhall   \n",
       "485435                        393.0                     Snow Hill, Farringdon   \n",
       "\n",
       "                    start_rental_date_time  start_station_id  \\\n",
       "__null_dask_index__                                            \n",
       "0                      2016-12-28 00:00:00             633.0   \n",
       "1                      2016-12-28 00:00:00             531.0   \n",
       "2                      2016-12-28 00:00:00             116.0   \n",
       "3                      2016-12-28 00:01:00             443.0   \n",
       "4                      2016-12-28 00:01:00             319.0   \n",
       "485431                 2017-06-23 07:25:00              45.0   \n",
       "485432                 2017-06-23 07:25:00              81.0   \n",
       "485433                 2017-06-23 07:25:00             522.0   \n",
       "485434                 2017-06-23 07:25:00             354.0   \n",
       "485435                 2017-06-23 07:25:00             154.0   \n",
       "\n",
       "                                      start_station_name  \n",
       "__null_dask_index__                                       \n",
       "0                    Vereker Road North, West Kensington  \n",
       "1                            Twig Folly Bridge, Mile End  \n",
       "2                         Little Argyll Street, West End  \n",
       "3                            Philpot Street, Whitechapel  \n",
       "4                             Baldwin Street, St. Luke's  \n",
       "485431                          Boston Place, Marylebone  \n",
       "485432                Great Titchfield Street, Fitzrovia  \n",
       "485433                            Clinton Road, Mile End  \n",
       "485434                     Northumberland Avenue, Strand  \n",
       "485435                      Waterloo Station 3, Waterloo  "
      ]
     },
     "execution_count": 14,
     "metadata": {},
     "output_type": "execute_result"
    }
   ],
   "source": [
    "md.concat([df.head(),df.tail()])"
   ]
  },
  {
   "cell_type": "code",
   "execution_count": 15,
   "id": "927df31e",
   "metadata": {},
   "outputs": [
    {
     "name": "stdout",
     "output_type": "stream",
     "text": [
      "Wall time: 1min 4s\n"
     ]
    }
   ],
   "source": [
    "%%time\n",
    "# modin pandas\n",
    "# group by\n",
    "df = None\n",
    "df = md.read_parquet(parquetfile) # time-consuming\n",
    "grouped_df = df.groupby(['bike_id']).agg({'duration':'sum','rental_id':'count'})\n",
    "grouped_df = grouped_df.reset_index()"
   ]
  },
  {
   "cell_type": "code",
   "execution_count": 16,
   "id": "8cfca092",
   "metadata": {},
   "outputs": [
    {
     "data": {
      "text/plain": [
       "(16019, 3)"
      ]
     },
     "execution_count": 16,
     "metadata": {},
     "output_type": "execute_result"
    }
   ],
   "source": [
    "grouped_df.shape"
   ]
  },
  {
   "cell_type": "code",
   "execution_count": 17,
   "id": "e3b2229f",
   "metadata": {},
   "outputs": [
    {
     "data": {
      "text/html": [
       "<div>\n",
       "<style scoped>\n",
       "    .dataframe tbody tr th:only-of-type {\n",
       "        vertical-align: middle;\n",
       "    }\n",
       "\n",
       "    .dataframe tbody tr th {\n",
       "        vertical-align: top;\n",
       "    }\n",
       "\n",
       "    .dataframe thead th {\n",
       "        text-align: right;\n",
       "    }\n",
       "</style>\n",
       "<table border=\"1\" class=\"dataframe\">\n",
       "  <thead>\n",
       "    <tr style=\"text-align: right;\">\n",
       "      <th></th>\n",
       "      <th>bike_id</th>\n",
       "      <th>rental_id</th>\n",
       "      <th>duration</th>\n",
       "    </tr>\n",
       "  </thead>\n",
       "  <tbody>\n",
       "    <tr>\n",
       "      <th>0</th>\n",
       "      <td>1.0</td>\n",
       "      <td>2653</td>\n",
       "      <td>3889465.0</td>\n",
       "    </tr>\n",
       "    <tr>\n",
       "      <th>1</th>\n",
       "      <td>2.0</td>\n",
       "      <td>1569</td>\n",
       "      <td>2056260.0</td>\n",
       "    </tr>\n",
       "    <tr>\n",
       "      <th>2</th>\n",
       "      <td>4.0</td>\n",
       "      <td>2905</td>\n",
       "      <td>4086285.0</td>\n",
       "    </tr>\n",
       "    <tr>\n",
       "      <th>3</th>\n",
       "      <td>5.0</td>\n",
       "      <td>2665</td>\n",
       "      <td>3847900.0</td>\n",
       "    </tr>\n",
       "    <tr>\n",
       "      <th>4</th>\n",
       "      <td>6.0</td>\n",
       "      <td>3092</td>\n",
       "      <td>3776526.0</td>\n",
       "    </tr>\n",
       "    <tr>\n",
       "      <th>16014</th>\n",
       "      <td>18499.0</td>\n",
       "      <td>7</td>\n",
       "      <td>6360.0</td>\n",
       "    </tr>\n",
       "    <tr>\n",
       "      <th>16015</th>\n",
       "      <td>18502.0</td>\n",
       "      <td>8</td>\n",
       "      <td>6960.0</td>\n",
       "    </tr>\n",
       "    <tr>\n",
       "      <th>16016</th>\n",
       "      <td>18505.0</td>\n",
       "      <td>4</td>\n",
       "      <td>4560.0</td>\n",
       "    </tr>\n",
       "    <tr>\n",
       "      <th>16017</th>\n",
       "      <td>18510.0</td>\n",
       "      <td>14</td>\n",
       "      <td>19440.0</td>\n",
       "    </tr>\n",
       "    <tr>\n",
       "      <th>16018</th>\n",
       "      <td>18512.0</td>\n",
       "      <td>9</td>\n",
       "      <td>8160.0</td>\n",
       "    </tr>\n",
       "  </tbody>\n",
       "</table>\n",
       "</div>"
      ],
      "text/plain": [
       "       bike_id  rental_id   duration\n",
       "0          1.0       2653  3889465.0\n",
       "1          2.0       1569  2056260.0\n",
       "2          4.0       2905  4086285.0\n",
       "3          5.0       2665  3847900.0\n",
       "4          6.0       3092  3776526.0\n",
       "16014  18499.0          7     6360.0\n",
       "16015  18502.0          8     6960.0\n",
       "16016  18505.0          4     4560.0\n",
       "16017  18510.0         14    19440.0\n",
       "16018  18512.0          9     8160.0"
      ]
     },
     "execution_count": 17,
     "metadata": {},
     "output_type": "execute_result"
    }
   ],
   "source": [
    "md.concat([grouped_df.head(),grouped_df.tail()])"
   ]
  },
  {
   "cell_type": "code",
   "execution_count": 18,
   "id": "44935aa4",
   "metadata": {},
   "outputs": [],
   "source": [
    "ray.shutdown()"
   ]
  },
  {
   "cell_type": "markdown",
   "id": "98300a49",
   "metadata": {},
   "source": [
    "## 9. The `pyspark` with `parquet` file"
   ]
  },
  {
   "cell_type": "code",
   "execution_count": 19,
   "id": "f436b928",
   "metadata": {},
   "outputs": [
    {
     "data": {
      "text/plain": [
       "Index(['rental_id', 'duration', 'bike_id', 'end_rental_date_time',\n",
       "       'end_station_id', 'end_station_name', 'start_rental_date_time',\n",
       "       'start_station_id', 'start_station_name'],\n",
       "      dtype='object')"
      ]
     },
     "execution_count": 19,
     "metadata": {},
     "output_type": "execute_result"
    }
   ],
   "source": [
    "df.columns"
   ]
  },
  {
   "cell_type": "code",
   "execution_count": 20,
   "id": "f324c8d7",
   "metadata": {},
   "outputs": [
    {
     "name": "stdout",
     "output_type": "stream",
     "text": [
      "root\n",
      " |-- rental_id: double (nullable = true)\n",
      " |-- duration: double (nullable = true)\n",
      " |-- bike_id: double (nullable = true)\n",
      " |-- end_rental_date_time: string (nullable = true)\n",
      " |-- end_station_id: double (nullable = true)\n",
      " |-- end_station_name: string (nullable = true)\n",
      " |-- start_rental_date_time: string (nullable = true)\n",
      " |-- start_station_id: double (nullable = true)\n",
      " |-- start_station_name: string (nullable = true)\n",
      " |-- __null_dask_index__: long (nullable = true)\n",
      "\n",
      "+-----------+--------+-------+--------------------+--------------+--------------------+----------------------+----------------+--------------------+-------------------+\n",
      "|  rental_id|duration|bike_id|end_rental_date_time|end_station_id|    end_station_name|start_rental_date_time|start_station_id|  start_station_name|__null_dask_index__|\n",
      "+-----------+--------+-------+--------------------+--------------+--------------------+----------------------+----------------+--------------------+-------------------+\n",
      "|7.2091291E7|   480.0|12256.0| 2017-12-15 11:20:00|          88.0|Bayley Street , B...|   2017-12-15 11:12:00|           793.0|Cromer Street, Bl...|                  0|\n",
      "|7.2091299E7|   600.0|13632.0| 2017-12-15 11:22:00|         448.0|Fisherman's Walk ...|   2017-12-15 11:12:00|           483.0|Albert Gardens, S...|                  1|\n",
      "|7.2091282E7|   360.0| 5478.0| 2017-12-15 11:18:00|         280.0|Royal Avenue 2, C...|   2017-12-15 11:12:00|           649.0|World's End Place...|                  2|\n",
      "|7.2091295E7|   300.0|13262.0| 2017-12-15 11:17:00|         173.0|Waterloo Road, So...|   2017-12-15 11:12:00|           810.0|Tate Modern, Bank...|                  3|\n",
      "|7.2091286E7|   780.0| 9027.0| 2017-12-15 11:25:00|         197.0|Stamford Street, ...|   2017-12-15 11:12:00|           135.0|Clerkenwell Green...|                  4|\n",
      "|7.2091287E7|  1080.0|11446.0| 2017-12-15 11:30:00|         727.0|Chesilton Road, F...|   2017-12-15 11:12:00|           350.0|Queen's Gate, Ken...|                  5|\n",
      "|7.2091284E7|   240.0|14507.0| 2017-12-15 11:16:00|         483.0|Albert Gardens, S...|   2017-12-15 11:12:00|           282.0|Royal London Hosp...|                  6|\n",
      "|7.2091293E7|  2040.0|12555.0| 2017-12-15 11:46:00|         591.0|Westfield Library...|   2017-12-15 11:12:00|           242.0|Beaumont Street, ...|                  7|\n",
      "|7.2091289E7|   600.0| 7629.0| 2017-12-15 11:22:00|         104.0|    Crosswall, Tower|   2017-12-15 11:12:00|           552.0|Watney Street, Sh...|                  8|\n",
      "| 7.209131E7|   240.0| 4488.0| 2017-12-15 11:17:00|         108.0|Abbey Orchard Str...|   2017-12-15 11:13:00|           267.0|Regency Street, W...|                  9|\n",
      "+-----------+--------+-------+--------------------+--------------+--------------------+----------------------+----------------+--------------------+-------------------+\n",
      "only showing top 10 rows\n",
      "\n",
      "Wall time: 10.1 s\n"
     ]
    }
   ],
   "source": [
    "%%time\n",
    "spark = SparkSession.builder.appName('readingLargeParquetFile')\\\n",
    "                            .getOrCreate()\n",
    "\n",
    "df = spark.read.format('parquet').options(header='True', inferSchema='True').load(parquetfile) \n",
    "\n",
    "df.printSchema()\n",
    "df.show(10)\n",
    "\n",
    "spark.stop()"
   ]
  },
  {
   "cell_type": "code",
   "execution_count": 21,
   "id": "1d7cc867",
   "metadata": {},
   "outputs": [
    {
     "name": "stdout",
     "output_type": "stream",
     "text": [
      "root\n",
      " |-- bike_id: double (nullable = true)\n",
      " |-- sum(duration): double (nullable = true)\n",
      " |-- count(rental_id): long (nullable = false)\n",
      "\n",
      "+-------+-------------+----------------+\n",
      "|bike_id|sum(duration)|count(rental_id)|\n",
      "+-------+-------------+----------------+\n",
      "|   null|     267180.0|              17|\n",
      "|    1.0|    3889465.0|            2653|\n",
      "|    2.0|    2056260.0|            1569|\n",
      "|    4.0|    4086285.0|            2905|\n",
      "|    5.0|    3847900.0|            2665|\n",
      "|    6.0|    3776526.0|            3092|\n",
      "|    7.0|    1360755.0|            1188|\n",
      "|    8.0|    4212032.0|            3233|\n",
      "|    9.0|    4161402.0|            3112|\n",
      "|   10.0|    2803224.0|            2309|\n",
      "+-------+-------------+----------------+\n",
      "only showing top 10 rows\n",
      "\n",
      "Wall time: 5.61 s\n"
     ]
    }
   ],
   "source": [
    "%%time\n",
    "spark = SparkSession.builder.appName('readingLargeParquetFile')\\\n",
    "                            .getOrCreate()\n",
    "\n",
    "df = spark.read.format('parquet').options(header='True', inferSchema='True').load(parquetfile) \n",
    " \n",
    "grouped_df = df.groupBy(['bike_id']).agg({'duration':'sum','rental_id':'count'})\n",
    "grouped_df = grouped_df.sort(PysparkFunc.col('bike_id').asc())\n",
    "\n",
    "grouped_df.printSchema()\n",
    "grouped_df.show(10)\n",
    "\n",
    "spark.stop()"
   ]
  },
  {
   "cell_type": "code",
   "execution_count": null,
   "id": "b3ea3d70",
   "metadata": {},
   "outputs": [],
   "source": []
  },
  {
   "cell_type": "markdown",
   "id": "baa6cce7",
   "metadata": {},
   "source": [
    "## Conclusion"
   ]
  },
  {
   "cell_type": "markdown",
   "id": "e3394fca",
   "metadata": {},
   "source": [
    "The steps for an efficient loading of a `CSV` file into a dataframe is:\n",
    "\n",
    "1. converting the `csv` file into a `parquet` format using `dask`.\n",
    "2. reading and processing the `parquet` file using `pyspark`."
   ]
  },
  {
   "cell_type": "code",
   "execution_count": null,
   "id": "39ff6977",
   "metadata": {},
   "outputs": [],
   "source": []
  }
 ],
 "metadata": {
  "kernelspec": {
   "display_name": "Python 3 (ipykernel)",
   "language": "python",
   "name": "python3"
  },
  "language_info": {
   "codemirror_mode": {
    "name": "ipython",
    "version": 3
   },
   "file_extension": ".py",
   "mimetype": "text/x-python",
   "name": "python",
   "nbconvert_exporter": "python",
   "pygments_lexer": "ipython3",
   "version": "3.9.12"
  }
 },
 "nbformat": 4,
 "nbformat_minor": 5
}
